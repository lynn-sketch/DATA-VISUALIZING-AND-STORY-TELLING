{
  "cells": [
    {
      "cell_type": "markdown",
      "metadata": {
        "id": "Lm9NowMI8X57"
      },
      "source": [
        "### Python for Data Visualization"
      ]
    },
    {
      "cell_type": "markdown",
      "metadata": {
        "id": "mEbpesPI8X5_"
      },
      "source": [
        "Install the necessary libraries"
      ]
    },
    {
      "cell_type": "code",
      "source": [
        "from google.colab import drive\n",
        "drive.mount('/content/drive')"
      ],
      "metadata": {
        "colab": {
          "base_uri": "https://localhost:8080/"
        },
        "id": "HVi7MT8P8m6a",
        "outputId": "da8863f4-c88a-46d3-c99f-4093e67cea04"
      },
      "execution_count": 1,
      "outputs": [
        {
          "output_type": "stream",
          "name": "stdout",
          "text": [
            "Mounted at /content/drive\n"
          ]
        }
      ]
    },
    {
      "cell_type": "code",
      "source": [
        "file_path = '/content/drive/My Drive/your_file.csv'\n",
        "df = pd.read_csv(file_path)\n",
        "print(df.head())"
      ],
      "metadata": {
        "id": "VlIi2M_J9A9k"
      },
      "execution_count": null,
      "outputs": []
    },
    {
      "cell_type": "code",
      "source": [
        "import pandas as pd"
      ],
      "metadata": {
        "id": "28TDNMpw-HGA"
      },
      "execution_count": 3,
      "outputs": []
    },
    {
      "cell_type": "code",
      "source": [
        "file_path = '/content/drive/My Drive/DATA VISUALIZATION/Bike_Sales.csv'\n",
        "df = pd.read_csv(file_path)\n",
        "print(df.head())"
      ],
      "metadata": {
        "colab": {
          "base_uri": "https://localhost:8080/"
        },
        "id": "bwSoWqip9ggH",
        "outputId": "8fedb310-08a6-4238-f7b5-e7fce7a474df"
      },
      "execution_count": 4,
      "outputs": [
        {
          "output_type": "stream",
          "name": "stdout",
          "text": [
            "   Sales_Order #       Date  Day     Month    Year  Customer_Age  \\\n",
            "0       261695.0  12/1/2021  1.0  December  2021.0          39.0   \n",
            "1       261696.0  12/1/2021  1.0  December  2021.0          44.0   \n",
            "2       261697.0  12/2/2021  2.0  December  2021.0          37.0   \n",
            "3       261698.0  12/2/2021  2.0  December  2021.0          31.0   \n",
            "4       261699.0  12/3/2021  3.0  December  2021.0          37.0   \n",
            "\n",
            "              Age_Group Customer_Gender         Country            State  \\\n",
            "0        Adults (35-64)               F   United States       California   \n",
            "1        Adults (35-64)               M  United Kingdom          England   \n",
            "2        Adults (35-64)               M   United States       California   \n",
            "3  Young Adults (25-34)               F       Australia  New South Wales   \n",
            "4        Adults (35-64)               F   United States       California   \n",
            "\n",
            "  Product_Category    Sub_Category        Product_Description  Order_Quantity  \\\n",
            "0            Bikes  Mountain Bikes     Mountain-200 Black, 46             4.0   \n",
            "1            Bikes  Mountain Bikes    Mountain-200 Silver, 42             1.0   \n",
            "2            Bikes  Mountain Bikes  Mountain-400-W Silver, 46             2.0   \n",
            "3            Bikes  Mountain Bikes  Mountain-400-W Silver, 42             1.0   \n",
            "4            Bikes  Mountain Bikes     Mountain-200 Black, 46             2.0   \n",
            "\n",
            "   Unit_Cost   Unit_Price     Profit       Cost     Revenue  \n",
            "0   $1,252.00    $2,295.00  $4,172.00  $5,008.00  $9,180.00  \n",
            "1   $1,266.00    $2,320.00  $1,054.00  $1,266.00  $2,320.00  \n",
            "2     $420.00      $769.00    $698.00    $840.00  $1,538.00  \n",
            "3     $420.00      $769.00    $349.00    $420.00    $769.00  \n",
            "4   $1,252.00    $2,295.00  $2,086.00  $2,504.00  $4,590.00  \n"
          ]
        }
      ]
    },
    {
      "cell_type": "code",
      "source": [
        "df.head()"
      ],
      "metadata": {
        "colab": {
          "base_uri": "https://localhost:8080/",
          "height": 348
        },
        "id": "Y_d5xmib-OLF",
        "outputId": "c0a00cde-8ecf-4c77-dfd5-46d109230988"
      },
      "execution_count": 5,
      "outputs": [
        {
          "output_type": "execute_result",
          "data": {
            "text/plain": [
              "   Sales_Order #       Date  Day     Month    Year  Customer_Age  \\\n",
              "0       261695.0  12/1/2021  1.0  December  2021.0          39.0   \n",
              "1       261696.0  12/1/2021  1.0  December  2021.0          44.0   \n",
              "2       261697.0  12/2/2021  2.0  December  2021.0          37.0   \n",
              "3       261698.0  12/2/2021  2.0  December  2021.0          31.0   \n",
              "4       261699.0  12/3/2021  3.0  December  2021.0          37.0   \n",
              "\n",
              "              Age_Group Customer_Gender         Country            State  \\\n",
              "0        Adults (35-64)               F   United States       California   \n",
              "1        Adults (35-64)               M  United Kingdom          England   \n",
              "2        Adults (35-64)               M   United States       California   \n",
              "3  Young Adults (25-34)               F       Australia  New South Wales   \n",
              "4        Adults (35-64)               F   United States       California   \n",
              "\n",
              "  Product_Category    Sub_Category        Product_Description  Order_Quantity  \\\n",
              "0            Bikes  Mountain Bikes     Mountain-200 Black, 46             4.0   \n",
              "1            Bikes  Mountain Bikes    Mountain-200 Silver, 42             1.0   \n",
              "2            Bikes  Mountain Bikes  Mountain-400-W Silver, 46             2.0   \n",
              "3            Bikes  Mountain Bikes  Mountain-400-W Silver, 42             1.0   \n",
              "4            Bikes  Mountain Bikes     Mountain-200 Black, 46             2.0   \n",
              "\n",
              "   Unit_Cost   Unit_Price     Profit       Cost     Revenue  \n",
              "0   $1,252.00    $2,295.00  $4,172.00  $5,008.00  $9,180.00  \n",
              "1   $1,266.00    $2,320.00  $1,054.00  $1,266.00  $2,320.00  \n",
              "2     $420.00      $769.00    $698.00    $840.00  $1,538.00  \n",
              "3     $420.00      $769.00    $349.00    $420.00    $769.00  \n",
              "4   $1,252.00    $2,295.00  $2,086.00  $2,504.00  $4,590.00  "
            ],
            "text/html": [
              "\n",
              "  <div id=\"df-a79eed4a-0522-458a-bf7d-3d48474b28bf\" class=\"colab-df-container\">\n",
              "    <div>\n",
              "<style scoped>\n",
              "    .dataframe tbody tr th:only-of-type {\n",
              "        vertical-align: middle;\n",
              "    }\n",
              "\n",
              "    .dataframe tbody tr th {\n",
              "        vertical-align: top;\n",
              "    }\n",
              "\n",
              "    .dataframe thead th {\n",
              "        text-align: right;\n",
              "    }\n",
              "</style>\n",
              "<table border=\"1\" class=\"dataframe\">\n",
              "  <thead>\n",
              "    <tr style=\"text-align: right;\">\n",
              "      <th></th>\n",
              "      <th>Sales_Order #</th>\n",
              "      <th>Date</th>\n",
              "      <th>Day</th>\n",
              "      <th>Month</th>\n",
              "      <th>Year</th>\n",
              "      <th>Customer_Age</th>\n",
              "      <th>Age_Group</th>\n",
              "      <th>Customer_Gender</th>\n",
              "      <th>Country</th>\n",
              "      <th>State</th>\n",
              "      <th>Product_Category</th>\n",
              "      <th>Sub_Category</th>\n",
              "      <th>Product_Description</th>\n",
              "      <th>Order_Quantity</th>\n",
              "      <th>Unit_Cost</th>\n",
              "      <th>Unit_Price</th>\n",
              "      <th>Profit</th>\n",
              "      <th>Cost</th>\n",
              "      <th>Revenue</th>\n",
              "    </tr>\n",
              "  </thead>\n",
              "  <tbody>\n",
              "    <tr>\n",
              "      <th>0</th>\n",
              "      <td>261695.0</td>\n",
              "      <td>12/1/2021</td>\n",
              "      <td>1.0</td>\n",
              "      <td>December</td>\n",
              "      <td>2021.0</td>\n",
              "      <td>39.0</td>\n",
              "      <td>Adults (35-64)</td>\n",
              "      <td>F</td>\n",
              "      <td>United States</td>\n",
              "      <td>California</td>\n",
              "      <td>Bikes</td>\n",
              "      <td>Mountain Bikes</td>\n",
              "      <td>Mountain-200 Black, 46</td>\n",
              "      <td>4.0</td>\n",
              "      <td>$1,252.00</td>\n",
              "      <td>$2,295.00</td>\n",
              "      <td>$4,172.00</td>\n",
              "      <td>$5,008.00</td>\n",
              "      <td>$9,180.00</td>\n",
              "    </tr>\n",
              "    <tr>\n",
              "      <th>1</th>\n",
              "      <td>261696.0</td>\n",
              "      <td>12/1/2021</td>\n",
              "      <td>1.0</td>\n",
              "      <td>December</td>\n",
              "      <td>2021.0</td>\n",
              "      <td>44.0</td>\n",
              "      <td>Adults (35-64)</td>\n",
              "      <td>M</td>\n",
              "      <td>United Kingdom</td>\n",
              "      <td>England</td>\n",
              "      <td>Bikes</td>\n",
              "      <td>Mountain Bikes</td>\n",
              "      <td>Mountain-200 Silver, 42</td>\n",
              "      <td>1.0</td>\n",
              "      <td>$1,266.00</td>\n",
              "      <td>$2,320.00</td>\n",
              "      <td>$1,054.00</td>\n",
              "      <td>$1,266.00</td>\n",
              "      <td>$2,320.00</td>\n",
              "    </tr>\n",
              "    <tr>\n",
              "      <th>2</th>\n",
              "      <td>261697.0</td>\n",
              "      <td>12/2/2021</td>\n",
              "      <td>2.0</td>\n",
              "      <td>December</td>\n",
              "      <td>2021.0</td>\n",
              "      <td>37.0</td>\n",
              "      <td>Adults (35-64)</td>\n",
              "      <td>M</td>\n",
              "      <td>United States</td>\n",
              "      <td>California</td>\n",
              "      <td>Bikes</td>\n",
              "      <td>Mountain Bikes</td>\n",
              "      <td>Mountain-400-W Silver, 46</td>\n",
              "      <td>2.0</td>\n",
              "      <td>$420.00</td>\n",
              "      <td>$769.00</td>\n",
              "      <td>$698.00</td>\n",
              "      <td>$840.00</td>\n",
              "      <td>$1,538.00</td>\n",
              "    </tr>\n",
              "    <tr>\n",
              "      <th>3</th>\n",
              "      <td>261698.0</td>\n",
              "      <td>12/2/2021</td>\n",
              "      <td>2.0</td>\n",
              "      <td>December</td>\n",
              "      <td>2021.0</td>\n",
              "      <td>31.0</td>\n",
              "      <td>Young Adults (25-34)</td>\n",
              "      <td>F</td>\n",
              "      <td>Australia</td>\n",
              "      <td>New South Wales</td>\n",
              "      <td>Bikes</td>\n",
              "      <td>Mountain Bikes</td>\n",
              "      <td>Mountain-400-W Silver, 42</td>\n",
              "      <td>1.0</td>\n",
              "      <td>$420.00</td>\n",
              "      <td>$769.00</td>\n",
              "      <td>$349.00</td>\n",
              "      <td>$420.00</td>\n",
              "      <td>$769.00</td>\n",
              "    </tr>\n",
              "    <tr>\n",
              "      <th>4</th>\n",
              "      <td>261699.0</td>\n",
              "      <td>12/3/2021</td>\n",
              "      <td>3.0</td>\n",
              "      <td>December</td>\n",
              "      <td>2021.0</td>\n",
              "      <td>37.0</td>\n",
              "      <td>Adults (35-64)</td>\n",
              "      <td>F</td>\n",
              "      <td>United States</td>\n",
              "      <td>California</td>\n",
              "      <td>Bikes</td>\n",
              "      <td>Mountain Bikes</td>\n",
              "      <td>Mountain-200 Black, 46</td>\n",
              "      <td>2.0</td>\n",
              "      <td>$1,252.00</td>\n",
              "      <td>$2,295.00</td>\n",
              "      <td>$2,086.00</td>\n",
              "      <td>$2,504.00</td>\n",
              "      <td>$4,590.00</td>\n",
              "    </tr>\n",
              "  </tbody>\n",
              "</table>\n",
              "</div>\n",
              "    <div class=\"colab-df-buttons\">\n",
              "\n",
              "  <div class=\"colab-df-container\">\n",
              "    <button class=\"colab-df-convert\" onclick=\"convertToInteractive('df-a79eed4a-0522-458a-bf7d-3d48474b28bf')\"\n",
              "            title=\"Convert this dataframe to an interactive table.\"\n",
              "            style=\"display:none;\">\n",
              "\n",
              "  <svg xmlns=\"http://www.w3.org/2000/svg\" height=\"24px\" viewBox=\"0 -960 960 960\">\n",
              "    <path d=\"M120-120v-720h720v720H120Zm60-500h600v-160H180v160Zm220 220h160v-160H400v160Zm0 220h160v-160H400v160ZM180-400h160v-160H180v160Zm440 0h160v-160H620v160ZM180-180h160v-160H180v160Zm440 0h160v-160H620v160Z\"/>\n",
              "  </svg>\n",
              "    </button>\n",
              "\n",
              "  <style>\n",
              "    .colab-df-container {\n",
              "      display:flex;\n",
              "      gap: 12px;\n",
              "    }\n",
              "\n",
              "    .colab-df-convert {\n",
              "      background-color: #E8F0FE;\n",
              "      border: none;\n",
              "      border-radius: 50%;\n",
              "      cursor: pointer;\n",
              "      display: none;\n",
              "      fill: #1967D2;\n",
              "      height: 32px;\n",
              "      padding: 0 0 0 0;\n",
              "      width: 32px;\n",
              "    }\n",
              "\n",
              "    .colab-df-convert:hover {\n",
              "      background-color: #E2EBFA;\n",
              "      box-shadow: 0px 1px 2px rgba(60, 64, 67, 0.3), 0px 1px 3px 1px rgba(60, 64, 67, 0.15);\n",
              "      fill: #174EA6;\n",
              "    }\n",
              "\n",
              "    .colab-df-buttons div {\n",
              "      margin-bottom: 4px;\n",
              "    }\n",
              "\n",
              "    [theme=dark] .colab-df-convert {\n",
              "      background-color: #3B4455;\n",
              "      fill: #D2E3FC;\n",
              "    }\n",
              "\n",
              "    [theme=dark] .colab-df-convert:hover {\n",
              "      background-color: #434B5C;\n",
              "      box-shadow: 0px 1px 3px 1px rgba(0, 0, 0, 0.15);\n",
              "      filter: drop-shadow(0px 1px 2px rgba(0, 0, 0, 0.3));\n",
              "      fill: #FFFFFF;\n",
              "    }\n",
              "  </style>\n",
              "\n",
              "    <script>\n",
              "      const buttonEl =\n",
              "        document.querySelector('#df-a79eed4a-0522-458a-bf7d-3d48474b28bf button.colab-df-convert');\n",
              "      buttonEl.style.display =\n",
              "        google.colab.kernel.accessAllowed ? 'block' : 'none';\n",
              "\n",
              "      async function convertToInteractive(key) {\n",
              "        const element = document.querySelector('#df-a79eed4a-0522-458a-bf7d-3d48474b28bf');\n",
              "        const dataTable =\n",
              "          await google.colab.kernel.invokeFunction('convertToInteractive',\n",
              "                                                    [key], {});\n",
              "        if (!dataTable) return;\n",
              "\n",
              "        const docLinkHtml = 'Like what you see? Visit the ' +\n",
              "          '<a target=\"_blank\" href=https://colab.research.google.com/notebooks/data_table.ipynb>data table notebook</a>'\n",
              "          + ' to learn more about interactive tables.';\n",
              "        element.innerHTML = '';\n",
              "        dataTable['output_type'] = 'display_data';\n",
              "        await google.colab.output.renderOutput(dataTable, element);\n",
              "        const docLink = document.createElement('div');\n",
              "        docLink.innerHTML = docLinkHtml;\n",
              "        element.appendChild(docLink);\n",
              "      }\n",
              "    </script>\n",
              "  </div>\n",
              "\n",
              "\n",
              "<div id=\"df-99bb268d-fd7a-4c42-b77e-eb1ea960476f\">\n",
              "  <button class=\"colab-df-quickchart\" onclick=\"quickchart('df-99bb268d-fd7a-4c42-b77e-eb1ea960476f')\"\n",
              "            title=\"Suggest charts\"\n",
              "            style=\"display:none;\">\n",
              "\n",
              "<svg xmlns=\"http://www.w3.org/2000/svg\" height=\"24px\"viewBox=\"0 0 24 24\"\n",
              "     width=\"24px\">\n",
              "    <g>\n",
              "        <path d=\"M19 3H5c-1.1 0-2 .9-2 2v14c0 1.1.9 2 2 2h14c1.1 0 2-.9 2-2V5c0-1.1-.9-2-2-2zM9 17H7v-7h2v7zm4 0h-2V7h2v10zm4 0h-2v-4h2v4z\"/>\n",
              "    </g>\n",
              "</svg>\n",
              "  </button>\n",
              "\n",
              "<style>\n",
              "  .colab-df-quickchart {\n",
              "      --bg-color: #E8F0FE;\n",
              "      --fill-color: #1967D2;\n",
              "      --hover-bg-color: #E2EBFA;\n",
              "      --hover-fill-color: #174EA6;\n",
              "      --disabled-fill-color: #AAA;\n",
              "      --disabled-bg-color: #DDD;\n",
              "  }\n",
              "\n",
              "  [theme=dark] .colab-df-quickchart {\n",
              "      --bg-color: #3B4455;\n",
              "      --fill-color: #D2E3FC;\n",
              "      --hover-bg-color: #434B5C;\n",
              "      --hover-fill-color: #FFFFFF;\n",
              "      --disabled-bg-color: #3B4455;\n",
              "      --disabled-fill-color: #666;\n",
              "  }\n",
              "\n",
              "  .colab-df-quickchart {\n",
              "    background-color: var(--bg-color);\n",
              "    border: none;\n",
              "    border-radius: 50%;\n",
              "    cursor: pointer;\n",
              "    display: none;\n",
              "    fill: var(--fill-color);\n",
              "    height: 32px;\n",
              "    padding: 0;\n",
              "    width: 32px;\n",
              "  }\n",
              "\n",
              "  .colab-df-quickchart:hover {\n",
              "    background-color: var(--hover-bg-color);\n",
              "    box-shadow: 0 1px 2px rgba(60, 64, 67, 0.3), 0 1px 3px 1px rgba(60, 64, 67, 0.15);\n",
              "    fill: var(--button-hover-fill-color);\n",
              "  }\n",
              "\n",
              "  .colab-df-quickchart-complete:disabled,\n",
              "  .colab-df-quickchart-complete:disabled:hover {\n",
              "    background-color: var(--disabled-bg-color);\n",
              "    fill: var(--disabled-fill-color);\n",
              "    box-shadow: none;\n",
              "  }\n",
              "\n",
              "  .colab-df-spinner {\n",
              "    border: 2px solid var(--fill-color);\n",
              "    border-color: transparent;\n",
              "    border-bottom-color: var(--fill-color);\n",
              "    animation:\n",
              "      spin 1s steps(1) infinite;\n",
              "  }\n",
              "\n",
              "  @keyframes spin {\n",
              "    0% {\n",
              "      border-color: transparent;\n",
              "      border-bottom-color: var(--fill-color);\n",
              "      border-left-color: var(--fill-color);\n",
              "    }\n",
              "    20% {\n",
              "      border-color: transparent;\n",
              "      border-left-color: var(--fill-color);\n",
              "      border-top-color: var(--fill-color);\n",
              "    }\n",
              "    30% {\n",
              "      border-color: transparent;\n",
              "      border-left-color: var(--fill-color);\n",
              "      border-top-color: var(--fill-color);\n",
              "      border-right-color: var(--fill-color);\n",
              "    }\n",
              "    40% {\n",
              "      border-color: transparent;\n",
              "      border-right-color: var(--fill-color);\n",
              "      border-top-color: var(--fill-color);\n",
              "    }\n",
              "    60% {\n",
              "      border-color: transparent;\n",
              "      border-right-color: var(--fill-color);\n",
              "    }\n",
              "    80% {\n",
              "      border-color: transparent;\n",
              "      border-right-color: var(--fill-color);\n",
              "      border-bottom-color: var(--fill-color);\n",
              "    }\n",
              "    90% {\n",
              "      border-color: transparent;\n",
              "      border-bottom-color: var(--fill-color);\n",
              "    }\n",
              "  }\n",
              "</style>\n",
              "\n",
              "  <script>\n",
              "    async function quickchart(key) {\n",
              "      const quickchartButtonEl =\n",
              "        document.querySelector('#' + key + ' button');\n",
              "      quickchartButtonEl.disabled = true;  // To prevent multiple clicks.\n",
              "      quickchartButtonEl.classList.add('colab-df-spinner');\n",
              "      try {\n",
              "        const charts = await google.colab.kernel.invokeFunction(\n",
              "            'suggestCharts', [key], {});\n",
              "      } catch (error) {\n",
              "        console.error('Error during call to suggestCharts:', error);\n",
              "      }\n",
              "      quickchartButtonEl.classList.remove('colab-df-spinner');\n",
              "      quickchartButtonEl.classList.add('colab-df-quickchart-complete');\n",
              "    }\n",
              "    (() => {\n",
              "      let quickchartButtonEl =\n",
              "        document.querySelector('#df-99bb268d-fd7a-4c42-b77e-eb1ea960476f button');\n",
              "      quickchartButtonEl.style.display =\n",
              "        google.colab.kernel.accessAllowed ? 'block' : 'none';\n",
              "    })();\n",
              "  </script>\n",
              "</div>\n",
              "\n",
              "    </div>\n",
              "  </div>\n"
            ],
            "application/vnd.google.colaboratory.intrinsic+json": {
              "type": "dataframe",
              "variable_name": "df",
              "summary": "{\n  \"name\": \"df\",\n  \"rows\": 89,\n  \"fields\": [\n    {\n      \"column\": \"Sales_Order #\",\n      \"properties\": {\n        \"dtype\": \"number\",\n        \"std\": 25.547341675146292,\n        \"min\": 261695.0,\n        \"max\": 261782.0,\n        \"num_unique_values\": 88,\n        \"samples\": [\n          261771.0,\n          261695.0,\n          261721.0\n        ],\n        \"semantic_type\": \"\",\n        \"description\": \"\"\n      }\n    },\n    {\n      \"column\": \"Date\",\n      \"properties\": {\n        \"dtype\": \"object\",\n        \"num_unique_values\": 24,\n        \"samples\": [\n          \"12/9/2021\",\n          \"12/17/2021\",\n          \"12/1/2021\"\n        ],\n        \"semantic_type\": \"\",\n        \"description\": \"\"\n      }\n    },\n    {\n      \"column\": \"Day\",\n      \"properties\": {\n        \"dtype\": \"number\",\n        \"std\": 6.35692753542937,\n        \"min\": 1.0,\n        \"max\": 24.0,\n        \"num_unique_values\": 24,\n        \"samples\": [\n          9.0,\n          17.0,\n          1.0\n        ],\n        \"semantic_type\": \"\",\n        \"description\": \"\"\n      }\n    },\n    {\n      \"column\": \"Month\",\n      \"properties\": {\n        \"dtype\": \"category\",\n        \"num_unique_values\": 1,\n        \"samples\": [\n          \"December\"\n        ],\n        \"semantic_type\": \"\",\n        \"description\": \"\"\n      }\n    },\n    {\n      \"column\": \"Year\",\n      \"properties\": {\n        \"dtype\": \"number\",\n        \"std\": 0.0,\n        \"min\": 2021.0,\n        \"max\": 2021.0,\n        \"num_unique_values\": 1,\n        \"samples\": [\n          2021.0\n        ],\n        \"semantic_type\": \"\",\n        \"description\": \"\"\n      }\n    },\n    {\n      \"column\": \"Customer_Age\",\n      \"properties\": {\n        \"dtype\": \"number\",\n        \"std\": 8.131422788947994,\n        \"min\": 17.0,\n        \"max\": 63.0,\n        \"num_unique_values\": 28,\n        \"samples\": [\n          36.0\n        ],\n        \"semantic_type\": \"\",\n        \"description\": \"\"\n      }\n    },\n    {\n      \"column\": \"Age_Group\",\n      \"properties\": {\n        \"dtype\": \"category\",\n        \"num_unique_values\": 3,\n        \"samples\": [\n          \"Adults (35-64)\"\n        ],\n        \"semantic_type\": \"\",\n        \"description\": \"\"\n      }\n    },\n    {\n      \"column\": \"Customer_Gender\",\n      \"properties\": {\n        \"dtype\": \"category\",\n        \"num_unique_values\": 2,\n        \"samples\": [\n          \"M\"\n        ],\n        \"semantic_type\": \"\",\n        \"description\": \"\"\n      }\n    },\n    {\n      \"column\": \"Country\",\n      \"properties\": {\n        \"dtype\": \"category\",\n        \"num_unique_values\": 6,\n        \"samples\": [\n          \"United States\"\n        ],\n        \"semantic_type\": \"\",\n        \"description\": \"\"\n      }\n    },\n    {\n      \"column\": \"State\",\n      \"properties\": {\n        \"dtype\": \"category\",\n        \"num_unique_values\": 17,\n        \"samples\": [\n          \"California\"\n        ],\n        \"semantic_type\": \"\",\n        \"description\": \"\"\n      }\n    },\n    {\n      \"column\": \"Product_Category\",\n      \"properties\": {\n        \"dtype\": \"category\",\n        \"num_unique_values\": 1,\n        \"samples\": [\n          \"Bikes\"\n        ],\n        \"semantic_type\": \"\",\n        \"description\": \"\"\n      }\n    },\n    {\n      \"column\": \"Sub_Category\",\n      \"properties\": {\n        \"dtype\": \"category\",\n        \"num_unique_values\": 1,\n        \"samples\": [\n          \"Mountain Bikes\"\n        ],\n        \"semantic_type\": \"\",\n        \"description\": \"\"\n      }\n    },\n    {\n      \"column\": \"Product_Description\",\n      \"properties\": {\n        \"dtype\": \"category\",\n        \"num_unique_values\": 18,\n        \"samples\": [\n          \"Mountain-200 Black, 46\"\n        ],\n        \"semantic_type\": \"\",\n        \"description\": \"\"\n      }\n    },\n    {\n      \"column\": \"Order_Quantity\",\n      \"properties\": {\n        \"dtype\": \"number\",\n        \"std\": 1.2393222100123458,\n        \"min\": 1.0,\n        \"max\": 4.0,\n        \"num_unique_values\": 4,\n        \"samples\": [\n          1.0\n        ],\n        \"semantic_type\": \"\",\n        \"description\": \"\"\n      }\n    },\n    {\n      \"column\": \" Unit_Cost \",\n      \"properties\": {\n        \"dtype\": \"category\",\n        \"num_unique_values\": 7,\n        \"samples\": [\n          \"$1,252.00\"\n        ],\n        \"semantic_type\": \"\",\n        \"description\": \"\"\n      }\n    },\n    {\n      \"column\": \" Unit_Price \",\n      \"properties\": {\n        \"dtype\": \"category\",\n        \"num_unique_values\": 7,\n        \"samples\": [\n          \"$2,295.00\"\n        ],\n        \"semantic_type\": \"\",\n        \"description\": \"\"\n      }\n    },\n    {\n      \"column\": \" Profit \",\n      \"properties\": {\n        \"dtype\": \"category\",\n        \"num_unique_values\": 21,\n        \"samples\": [\n          \"$4,172.00\"\n        ],\n        \"semantic_type\": \"\",\n        \"description\": \"\"\n      }\n    },\n    {\n      \"column\": \" Cost \",\n      \"properties\": {\n        \"dtype\": \"category\",\n        \"num_unique_values\": 21,\n        \"samples\": [\n          \"$5,008.00\"\n        ],\n        \"semantic_type\": \"\",\n        \"description\": \"\"\n      }\n    },\n    {\n      \"column\": \"Revenue\",\n      \"properties\": {\n        \"dtype\": \"category\",\n        \"num_unique_values\": 21,\n        \"samples\": [\n          \"$9,180.00\"\n        ],\n        \"semantic_type\": \"\",\n        \"description\": \"\"\n      }\n    }\n  ]\n}"
            }
          },
          "metadata": {},
          "execution_count": 5
        }
      ]
    },
    {
      "cell_type": "code",
      "source": [
        "df.shape"
      ],
      "metadata": {
        "colab": {
          "base_uri": "https://localhost:8080/"
        },
        "id": "d1ujRNFn-t2u",
        "outputId": "b0cd00a9-263a-4837-d718-1d241956d470"
      },
      "execution_count": 6,
      "outputs": [
        {
          "output_type": "execute_result",
          "data": {
            "text/plain": [
              "(89, 19)"
            ]
          },
          "metadata": {},
          "execution_count": 6
        }
      ]
    },
    {
      "cell_type": "code",
      "execution_count": null,
      "metadata": {
        "id": "krgYKiyv8X6B"
      },
      "outputs": [],
      "source": [
        "#pip install pandas"
      ]
    },
    {
      "cell_type": "code",
      "execution_count": null,
      "metadata": {
        "id": "5EG6zxOz8X6C"
      },
      "outputs": [],
      "source": [
        "#pip install numpy"
      ]
    },
    {
      "cell_type": "code",
      "execution_count": null,
      "metadata": {
        "id": "kD2eYSZR8X6D"
      },
      "outputs": [],
      "source": [
        "#pip install seaborn"
      ]
    },
    {
      "cell_type": "code",
      "execution_count": null,
      "metadata": {
        "id": "8MTzvdm38X6E"
      },
      "outputs": [],
      "source": [
        "#pip install matplotlib"
      ]
    },
    {
      "cell_type": "code",
      "execution_count": 7,
      "metadata": {
        "id": "GhrkIAWy8X6F"
      },
      "outputs": [],
      "source": [
        "# import the Libraries\n",
        "import pandas as pd\n",
        "import numpy as np\n",
        "import seaborn as sns\n",
        "import matplotlib.pyplot as plt\n",
        "from scipy import stats"
      ]
    },
    {
      "cell_type": "code",
      "source": [
        "Data = df"
      ],
      "metadata": {
        "id": "N_B5yQZH_LgR"
      },
      "execution_count": 8,
      "outputs": []
    },
    {
      "cell_type": "code",
      "source": [
        "Data.head()"
      ],
      "metadata": {
        "colab": {
          "base_uri": "https://localhost:8080/",
          "height": 348
        },
        "id": "Nu3oDN7v_WPp",
        "outputId": "3ee38a47-6ef1-4001-bc2d-124f3368da29"
      },
      "execution_count": 9,
      "outputs": [
        {
          "output_type": "execute_result",
          "data": {
            "text/plain": [
              "   Sales_Order #       Date  Day     Month    Year  Customer_Age  \\\n",
              "0       261695.0  12/1/2021  1.0  December  2021.0          39.0   \n",
              "1       261696.0  12/1/2021  1.0  December  2021.0          44.0   \n",
              "2       261697.0  12/2/2021  2.0  December  2021.0          37.0   \n",
              "3       261698.0  12/2/2021  2.0  December  2021.0          31.0   \n",
              "4       261699.0  12/3/2021  3.0  December  2021.0          37.0   \n",
              "\n",
              "              Age_Group Customer_Gender         Country            State  \\\n",
              "0        Adults (35-64)               F   United States       California   \n",
              "1        Adults (35-64)               M  United Kingdom          England   \n",
              "2        Adults (35-64)               M   United States       California   \n",
              "3  Young Adults (25-34)               F       Australia  New South Wales   \n",
              "4        Adults (35-64)               F   United States       California   \n",
              "\n",
              "  Product_Category    Sub_Category        Product_Description  Order_Quantity  \\\n",
              "0            Bikes  Mountain Bikes     Mountain-200 Black, 46             4.0   \n",
              "1            Bikes  Mountain Bikes    Mountain-200 Silver, 42             1.0   \n",
              "2            Bikes  Mountain Bikes  Mountain-400-W Silver, 46             2.0   \n",
              "3            Bikes  Mountain Bikes  Mountain-400-W Silver, 42             1.0   \n",
              "4            Bikes  Mountain Bikes     Mountain-200 Black, 46             2.0   \n",
              "\n",
              "   Unit_Cost   Unit_Price     Profit       Cost     Revenue  \n",
              "0   $1,252.00    $2,295.00  $4,172.00  $5,008.00  $9,180.00  \n",
              "1   $1,266.00    $2,320.00  $1,054.00  $1,266.00  $2,320.00  \n",
              "2     $420.00      $769.00    $698.00    $840.00  $1,538.00  \n",
              "3     $420.00      $769.00    $349.00    $420.00    $769.00  \n",
              "4   $1,252.00    $2,295.00  $2,086.00  $2,504.00  $4,590.00  "
            ],
            "text/html": [
              "\n",
              "  <div id=\"df-8449ab42-04ef-463a-ad90-b3b944bb7be1\" class=\"colab-df-container\">\n",
              "    <div>\n",
              "<style scoped>\n",
              "    .dataframe tbody tr th:only-of-type {\n",
              "        vertical-align: middle;\n",
              "    }\n",
              "\n",
              "    .dataframe tbody tr th {\n",
              "        vertical-align: top;\n",
              "    }\n",
              "\n",
              "    .dataframe thead th {\n",
              "        text-align: right;\n",
              "    }\n",
              "</style>\n",
              "<table border=\"1\" class=\"dataframe\">\n",
              "  <thead>\n",
              "    <tr style=\"text-align: right;\">\n",
              "      <th></th>\n",
              "      <th>Sales_Order #</th>\n",
              "      <th>Date</th>\n",
              "      <th>Day</th>\n",
              "      <th>Month</th>\n",
              "      <th>Year</th>\n",
              "      <th>Customer_Age</th>\n",
              "      <th>Age_Group</th>\n",
              "      <th>Customer_Gender</th>\n",
              "      <th>Country</th>\n",
              "      <th>State</th>\n",
              "      <th>Product_Category</th>\n",
              "      <th>Sub_Category</th>\n",
              "      <th>Product_Description</th>\n",
              "      <th>Order_Quantity</th>\n",
              "      <th>Unit_Cost</th>\n",
              "      <th>Unit_Price</th>\n",
              "      <th>Profit</th>\n",
              "      <th>Cost</th>\n",
              "      <th>Revenue</th>\n",
              "    </tr>\n",
              "  </thead>\n",
              "  <tbody>\n",
              "    <tr>\n",
              "      <th>0</th>\n",
              "      <td>261695.0</td>\n",
              "      <td>12/1/2021</td>\n",
              "      <td>1.0</td>\n",
              "      <td>December</td>\n",
              "      <td>2021.0</td>\n",
              "      <td>39.0</td>\n",
              "      <td>Adults (35-64)</td>\n",
              "      <td>F</td>\n",
              "      <td>United States</td>\n",
              "      <td>California</td>\n",
              "      <td>Bikes</td>\n",
              "      <td>Mountain Bikes</td>\n",
              "      <td>Mountain-200 Black, 46</td>\n",
              "      <td>4.0</td>\n",
              "      <td>$1,252.00</td>\n",
              "      <td>$2,295.00</td>\n",
              "      <td>$4,172.00</td>\n",
              "      <td>$5,008.00</td>\n",
              "      <td>$9,180.00</td>\n",
              "    </tr>\n",
              "    <tr>\n",
              "      <th>1</th>\n",
              "      <td>261696.0</td>\n",
              "      <td>12/1/2021</td>\n",
              "      <td>1.0</td>\n",
              "      <td>December</td>\n",
              "      <td>2021.0</td>\n",
              "      <td>44.0</td>\n",
              "      <td>Adults (35-64)</td>\n",
              "      <td>M</td>\n",
              "      <td>United Kingdom</td>\n",
              "      <td>England</td>\n",
              "      <td>Bikes</td>\n",
              "      <td>Mountain Bikes</td>\n",
              "      <td>Mountain-200 Silver, 42</td>\n",
              "      <td>1.0</td>\n",
              "      <td>$1,266.00</td>\n",
              "      <td>$2,320.00</td>\n",
              "      <td>$1,054.00</td>\n",
              "      <td>$1,266.00</td>\n",
              "      <td>$2,320.00</td>\n",
              "    </tr>\n",
              "    <tr>\n",
              "      <th>2</th>\n",
              "      <td>261697.0</td>\n",
              "      <td>12/2/2021</td>\n",
              "      <td>2.0</td>\n",
              "      <td>December</td>\n",
              "      <td>2021.0</td>\n",
              "      <td>37.0</td>\n",
              "      <td>Adults (35-64)</td>\n",
              "      <td>M</td>\n",
              "      <td>United States</td>\n",
              "      <td>California</td>\n",
              "      <td>Bikes</td>\n",
              "      <td>Mountain Bikes</td>\n",
              "      <td>Mountain-400-W Silver, 46</td>\n",
              "      <td>2.0</td>\n",
              "      <td>$420.00</td>\n",
              "      <td>$769.00</td>\n",
              "      <td>$698.00</td>\n",
              "      <td>$840.00</td>\n",
              "      <td>$1,538.00</td>\n",
              "    </tr>\n",
              "    <tr>\n",
              "      <th>3</th>\n",
              "      <td>261698.0</td>\n",
              "      <td>12/2/2021</td>\n",
              "      <td>2.0</td>\n",
              "      <td>December</td>\n",
              "      <td>2021.0</td>\n",
              "      <td>31.0</td>\n",
              "      <td>Young Adults (25-34)</td>\n",
              "      <td>F</td>\n",
              "      <td>Australia</td>\n",
              "      <td>New South Wales</td>\n",
              "      <td>Bikes</td>\n",
              "      <td>Mountain Bikes</td>\n",
              "      <td>Mountain-400-W Silver, 42</td>\n",
              "      <td>1.0</td>\n",
              "      <td>$420.00</td>\n",
              "      <td>$769.00</td>\n",
              "      <td>$349.00</td>\n",
              "      <td>$420.00</td>\n",
              "      <td>$769.00</td>\n",
              "    </tr>\n",
              "    <tr>\n",
              "      <th>4</th>\n",
              "      <td>261699.0</td>\n",
              "      <td>12/3/2021</td>\n",
              "      <td>3.0</td>\n",
              "      <td>December</td>\n",
              "      <td>2021.0</td>\n",
              "      <td>37.0</td>\n",
              "      <td>Adults (35-64)</td>\n",
              "      <td>F</td>\n",
              "      <td>United States</td>\n",
              "      <td>California</td>\n",
              "      <td>Bikes</td>\n",
              "      <td>Mountain Bikes</td>\n",
              "      <td>Mountain-200 Black, 46</td>\n",
              "      <td>2.0</td>\n",
              "      <td>$1,252.00</td>\n",
              "      <td>$2,295.00</td>\n",
              "      <td>$2,086.00</td>\n",
              "      <td>$2,504.00</td>\n",
              "      <td>$4,590.00</td>\n",
              "    </tr>\n",
              "  </tbody>\n",
              "</table>\n",
              "</div>\n",
              "    <div class=\"colab-df-buttons\">\n",
              "\n",
              "  <div class=\"colab-df-container\">\n",
              "    <button class=\"colab-df-convert\" onclick=\"convertToInteractive('df-8449ab42-04ef-463a-ad90-b3b944bb7be1')\"\n",
              "            title=\"Convert this dataframe to an interactive table.\"\n",
              "            style=\"display:none;\">\n",
              "\n",
              "  <svg xmlns=\"http://www.w3.org/2000/svg\" height=\"24px\" viewBox=\"0 -960 960 960\">\n",
              "    <path d=\"M120-120v-720h720v720H120Zm60-500h600v-160H180v160Zm220 220h160v-160H400v160Zm0 220h160v-160H400v160ZM180-400h160v-160H180v160Zm440 0h160v-160H620v160ZM180-180h160v-160H180v160Zm440 0h160v-160H620v160Z\"/>\n",
              "  </svg>\n",
              "    </button>\n",
              "\n",
              "  <style>\n",
              "    .colab-df-container {\n",
              "      display:flex;\n",
              "      gap: 12px;\n",
              "    }\n",
              "\n",
              "    .colab-df-convert {\n",
              "      background-color: #E8F0FE;\n",
              "      border: none;\n",
              "      border-radius: 50%;\n",
              "      cursor: pointer;\n",
              "      display: none;\n",
              "      fill: #1967D2;\n",
              "      height: 32px;\n",
              "      padding: 0 0 0 0;\n",
              "      width: 32px;\n",
              "    }\n",
              "\n",
              "    .colab-df-convert:hover {\n",
              "      background-color: #E2EBFA;\n",
              "      box-shadow: 0px 1px 2px rgba(60, 64, 67, 0.3), 0px 1px 3px 1px rgba(60, 64, 67, 0.15);\n",
              "      fill: #174EA6;\n",
              "    }\n",
              "\n",
              "    .colab-df-buttons div {\n",
              "      margin-bottom: 4px;\n",
              "    }\n",
              "\n",
              "    [theme=dark] .colab-df-convert {\n",
              "      background-color: #3B4455;\n",
              "      fill: #D2E3FC;\n",
              "    }\n",
              "\n",
              "    [theme=dark] .colab-df-convert:hover {\n",
              "      background-color: #434B5C;\n",
              "      box-shadow: 0px 1px 3px 1px rgba(0, 0, 0, 0.15);\n",
              "      filter: drop-shadow(0px 1px 2px rgba(0, 0, 0, 0.3));\n",
              "      fill: #FFFFFF;\n",
              "    }\n",
              "  </style>\n",
              "\n",
              "    <script>\n",
              "      const buttonEl =\n",
              "        document.querySelector('#df-8449ab42-04ef-463a-ad90-b3b944bb7be1 button.colab-df-convert');\n",
              "      buttonEl.style.display =\n",
              "        google.colab.kernel.accessAllowed ? 'block' : 'none';\n",
              "\n",
              "      async function convertToInteractive(key) {\n",
              "        const element = document.querySelector('#df-8449ab42-04ef-463a-ad90-b3b944bb7be1');\n",
              "        const dataTable =\n",
              "          await google.colab.kernel.invokeFunction('convertToInteractive',\n",
              "                                                    [key], {});\n",
              "        if (!dataTable) return;\n",
              "\n",
              "        const docLinkHtml = 'Like what you see? Visit the ' +\n",
              "          '<a target=\"_blank\" href=https://colab.research.google.com/notebooks/data_table.ipynb>data table notebook</a>'\n",
              "          + ' to learn more about interactive tables.';\n",
              "        element.innerHTML = '';\n",
              "        dataTable['output_type'] = 'display_data';\n",
              "        await google.colab.output.renderOutput(dataTable, element);\n",
              "        const docLink = document.createElement('div');\n",
              "        docLink.innerHTML = docLinkHtml;\n",
              "        element.appendChild(docLink);\n",
              "      }\n",
              "    </script>\n",
              "  </div>\n",
              "\n",
              "\n",
              "<div id=\"df-ef2c8877-d0aa-4931-8e85-85478ea78d94\">\n",
              "  <button class=\"colab-df-quickchart\" onclick=\"quickchart('df-ef2c8877-d0aa-4931-8e85-85478ea78d94')\"\n",
              "            title=\"Suggest charts\"\n",
              "            style=\"display:none;\">\n",
              "\n",
              "<svg xmlns=\"http://www.w3.org/2000/svg\" height=\"24px\"viewBox=\"0 0 24 24\"\n",
              "     width=\"24px\">\n",
              "    <g>\n",
              "        <path d=\"M19 3H5c-1.1 0-2 .9-2 2v14c0 1.1.9 2 2 2h14c1.1 0 2-.9 2-2V5c0-1.1-.9-2-2-2zM9 17H7v-7h2v7zm4 0h-2V7h2v10zm4 0h-2v-4h2v4z\"/>\n",
              "    </g>\n",
              "</svg>\n",
              "  </button>\n",
              "\n",
              "<style>\n",
              "  .colab-df-quickchart {\n",
              "      --bg-color: #E8F0FE;\n",
              "      --fill-color: #1967D2;\n",
              "      --hover-bg-color: #E2EBFA;\n",
              "      --hover-fill-color: #174EA6;\n",
              "      --disabled-fill-color: #AAA;\n",
              "      --disabled-bg-color: #DDD;\n",
              "  }\n",
              "\n",
              "  [theme=dark] .colab-df-quickchart {\n",
              "      --bg-color: #3B4455;\n",
              "      --fill-color: #D2E3FC;\n",
              "      --hover-bg-color: #434B5C;\n",
              "      --hover-fill-color: #FFFFFF;\n",
              "      --disabled-bg-color: #3B4455;\n",
              "      --disabled-fill-color: #666;\n",
              "  }\n",
              "\n",
              "  .colab-df-quickchart {\n",
              "    background-color: var(--bg-color);\n",
              "    border: none;\n",
              "    border-radius: 50%;\n",
              "    cursor: pointer;\n",
              "    display: none;\n",
              "    fill: var(--fill-color);\n",
              "    height: 32px;\n",
              "    padding: 0;\n",
              "    width: 32px;\n",
              "  }\n",
              "\n",
              "  .colab-df-quickchart:hover {\n",
              "    background-color: var(--hover-bg-color);\n",
              "    box-shadow: 0 1px 2px rgba(60, 64, 67, 0.3), 0 1px 3px 1px rgba(60, 64, 67, 0.15);\n",
              "    fill: var(--button-hover-fill-color);\n",
              "  }\n",
              "\n",
              "  .colab-df-quickchart-complete:disabled,\n",
              "  .colab-df-quickchart-complete:disabled:hover {\n",
              "    background-color: var(--disabled-bg-color);\n",
              "    fill: var(--disabled-fill-color);\n",
              "    box-shadow: none;\n",
              "  }\n",
              "\n",
              "  .colab-df-spinner {\n",
              "    border: 2px solid var(--fill-color);\n",
              "    border-color: transparent;\n",
              "    border-bottom-color: var(--fill-color);\n",
              "    animation:\n",
              "      spin 1s steps(1) infinite;\n",
              "  }\n",
              "\n",
              "  @keyframes spin {\n",
              "    0% {\n",
              "      border-color: transparent;\n",
              "      border-bottom-color: var(--fill-color);\n",
              "      border-left-color: var(--fill-color);\n",
              "    }\n",
              "    20% {\n",
              "      border-color: transparent;\n",
              "      border-left-color: var(--fill-color);\n",
              "      border-top-color: var(--fill-color);\n",
              "    }\n",
              "    30% {\n",
              "      border-color: transparent;\n",
              "      border-left-color: var(--fill-color);\n",
              "      border-top-color: var(--fill-color);\n",
              "      border-right-color: var(--fill-color);\n",
              "    }\n",
              "    40% {\n",
              "      border-color: transparent;\n",
              "      border-right-color: var(--fill-color);\n",
              "      border-top-color: var(--fill-color);\n",
              "    }\n",
              "    60% {\n",
              "      border-color: transparent;\n",
              "      border-right-color: var(--fill-color);\n",
              "    }\n",
              "    80% {\n",
              "      border-color: transparent;\n",
              "      border-right-color: var(--fill-color);\n",
              "      border-bottom-color: var(--fill-color);\n",
              "    }\n",
              "    90% {\n",
              "      border-color: transparent;\n",
              "      border-bottom-color: var(--fill-color);\n",
              "    }\n",
              "  }\n",
              "</style>\n",
              "\n",
              "  <script>\n",
              "    async function quickchart(key) {\n",
              "      const quickchartButtonEl =\n",
              "        document.querySelector('#' + key + ' button');\n",
              "      quickchartButtonEl.disabled = true;  // To prevent multiple clicks.\n",
              "      quickchartButtonEl.classList.add('colab-df-spinner');\n",
              "      try {\n",
              "        const charts = await google.colab.kernel.invokeFunction(\n",
              "            'suggestCharts', [key], {});\n",
              "      } catch (error) {\n",
              "        console.error('Error during call to suggestCharts:', error);\n",
              "      }\n",
              "      quickchartButtonEl.classList.remove('colab-df-spinner');\n",
              "      quickchartButtonEl.classList.add('colab-df-quickchart-complete');\n",
              "    }\n",
              "    (() => {\n",
              "      let quickchartButtonEl =\n",
              "        document.querySelector('#df-ef2c8877-d0aa-4931-8e85-85478ea78d94 button');\n",
              "      quickchartButtonEl.style.display =\n",
              "        google.colab.kernel.accessAllowed ? 'block' : 'none';\n",
              "    })();\n",
              "  </script>\n",
              "</div>\n",
              "\n",
              "    </div>\n",
              "  </div>\n"
            ],
            "application/vnd.google.colaboratory.intrinsic+json": {
              "type": "dataframe",
              "variable_name": "Data",
              "summary": "{\n  \"name\": \"Data\",\n  \"rows\": 89,\n  \"fields\": [\n    {\n      \"column\": \"Sales_Order #\",\n      \"properties\": {\n        \"dtype\": \"number\",\n        \"std\": 25.547341675146292,\n        \"min\": 261695.0,\n        \"max\": 261782.0,\n        \"num_unique_values\": 88,\n        \"samples\": [\n          261771.0,\n          261695.0,\n          261721.0\n        ],\n        \"semantic_type\": \"\",\n        \"description\": \"\"\n      }\n    },\n    {\n      \"column\": \"Date\",\n      \"properties\": {\n        \"dtype\": \"object\",\n        \"num_unique_values\": 24,\n        \"samples\": [\n          \"12/9/2021\",\n          \"12/17/2021\",\n          \"12/1/2021\"\n        ],\n        \"semantic_type\": \"\",\n        \"description\": \"\"\n      }\n    },\n    {\n      \"column\": \"Day\",\n      \"properties\": {\n        \"dtype\": \"number\",\n        \"std\": 6.35692753542937,\n        \"min\": 1.0,\n        \"max\": 24.0,\n        \"num_unique_values\": 24,\n        \"samples\": [\n          9.0,\n          17.0,\n          1.0\n        ],\n        \"semantic_type\": \"\",\n        \"description\": \"\"\n      }\n    },\n    {\n      \"column\": \"Month\",\n      \"properties\": {\n        \"dtype\": \"category\",\n        \"num_unique_values\": 1,\n        \"samples\": [\n          \"December\"\n        ],\n        \"semantic_type\": \"\",\n        \"description\": \"\"\n      }\n    },\n    {\n      \"column\": \"Year\",\n      \"properties\": {\n        \"dtype\": \"number\",\n        \"std\": 0.0,\n        \"min\": 2021.0,\n        \"max\": 2021.0,\n        \"num_unique_values\": 1,\n        \"samples\": [\n          2021.0\n        ],\n        \"semantic_type\": \"\",\n        \"description\": \"\"\n      }\n    },\n    {\n      \"column\": \"Customer_Age\",\n      \"properties\": {\n        \"dtype\": \"number\",\n        \"std\": 8.131422788947994,\n        \"min\": 17.0,\n        \"max\": 63.0,\n        \"num_unique_values\": 28,\n        \"samples\": [\n          36.0\n        ],\n        \"semantic_type\": \"\",\n        \"description\": \"\"\n      }\n    },\n    {\n      \"column\": \"Age_Group\",\n      \"properties\": {\n        \"dtype\": \"category\",\n        \"num_unique_values\": 3,\n        \"samples\": [\n          \"Adults (35-64)\"\n        ],\n        \"semantic_type\": \"\",\n        \"description\": \"\"\n      }\n    },\n    {\n      \"column\": \"Customer_Gender\",\n      \"properties\": {\n        \"dtype\": \"category\",\n        \"num_unique_values\": 2,\n        \"samples\": [\n          \"M\"\n        ],\n        \"semantic_type\": \"\",\n        \"description\": \"\"\n      }\n    },\n    {\n      \"column\": \"Country\",\n      \"properties\": {\n        \"dtype\": \"category\",\n        \"num_unique_values\": 6,\n        \"samples\": [\n          \"United States\"\n        ],\n        \"semantic_type\": \"\",\n        \"description\": \"\"\n      }\n    },\n    {\n      \"column\": \"State\",\n      \"properties\": {\n        \"dtype\": \"category\",\n        \"num_unique_values\": 17,\n        \"samples\": [\n          \"California\"\n        ],\n        \"semantic_type\": \"\",\n        \"description\": \"\"\n      }\n    },\n    {\n      \"column\": \"Product_Category\",\n      \"properties\": {\n        \"dtype\": \"category\",\n        \"num_unique_values\": 1,\n        \"samples\": [\n          \"Bikes\"\n        ],\n        \"semantic_type\": \"\",\n        \"description\": \"\"\n      }\n    },\n    {\n      \"column\": \"Sub_Category\",\n      \"properties\": {\n        \"dtype\": \"category\",\n        \"num_unique_values\": 1,\n        \"samples\": [\n          \"Mountain Bikes\"\n        ],\n        \"semantic_type\": \"\",\n        \"description\": \"\"\n      }\n    },\n    {\n      \"column\": \"Product_Description\",\n      \"properties\": {\n        \"dtype\": \"category\",\n        \"num_unique_values\": 18,\n        \"samples\": [\n          \"Mountain-200 Black, 46\"\n        ],\n        \"semantic_type\": \"\",\n        \"description\": \"\"\n      }\n    },\n    {\n      \"column\": \"Order_Quantity\",\n      \"properties\": {\n        \"dtype\": \"number\",\n        \"std\": 1.2393222100123458,\n        \"min\": 1.0,\n        \"max\": 4.0,\n        \"num_unique_values\": 4,\n        \"samples\": [\n          1.0\n        ],\n        \"semantic_type\": \"\",\n        \"description\": \"\"\n      }\n    },\n    {\n      \"column\": \" Unit_Cost \",\n      \"properties\": {\n        \"dtype\": \"category\",\n        \"num_unique_values\": 7,\n        \"samples\": [\n          \"$1,252.00\"\n        ],\n        \"semantic_type\": \"\",\n        \"description\": \"\"\n      }\n    },\n    {\n      \"column\": \" Unit_Price \",\n      \"properties\": {\n        \"dtype\": \"category\",\n        \"num_unique_values\": 7,\n        \"samples\": [\n          \"$2,295.00\"\n        ],\n        \"semantic_type\": \"\",\n        \"description\": \"\"\n      }\n    },\n    {\n      \"column\": \" Profit \",\n      \"properties\": {\n        \"dtype\": \"category\",\n        \"num_unique_values\": 21,\n        \"samples\": [\n          \"$4,172.00\"\n        ],\n        \"semantic_type\": \"\",\n        \"description\": \"\"\n      }\n    },\n    {\n      \"column\": \" Cost \",\n      \"properties\": {\n        \"dtype\": \"category\",\n        \"num_unique_values\": 21,\n        \"samples\": [\n          \"$5,008.00\"\n        ],\n        \"semantic_type\": \"\",\n        \"description\": \"\"\n      }\n    },\n    {\n      \"column\": \"Revenue\",\n      \"properties\": {\n        \"dtype\": \"category\",\n        \"num_unique_values\": 21,\n        \"samples\": [\n          \"$9,180.00\"\n        ],\n        \"semantic_type\": \"\",\n        \"description\": \"\"\n      }\n    }\n  ]\n}"
            }
          },
          "metadata": {},
          "execution_count": 9
        }
      ]
    },
    {
      "cell_type": "code",
      "execution_count": null,
      "metadata": {
        "id": "rJyUKbM48X6G",
        "outputId": "cf18be07-ae1c-4092-ccb6-db87b39024dc"
      },
      "outputs": [
        {
          "data": {
            "text/html": [
              "<div>\n",
              "<style scoped>\n",
              "    .dataframe tbody tr th:only-of-type {\n",
              "        vertical-align: middle;\n",
              "    }\n",
              "\n",
              "    .dataframe tbody tr th {\n",
              "        vertical-align: top;\n",
              "    }\n",
              "\n",
              "    .dataframe thead th {\n",
              "        text-align: right;\n",
              "    }\n",
              "</style>\n",
              "<table border=\"1\" class=\"dataframe\">\n",
              "  <thead>\n",
              "    <tr style=\"text-align: right;\">\n",
              "      <th></th>\n",
              "      <th>Sales_Order #</th>\n",
              "      <th>Date</th>\n",
              "      <th>Day</th>\n",
              "      <th>Month</th>\n",
              "      <th>Year</th>\n",
              "      <th>Customer_Age</th>\n",
              "      <th>Age_Group</th>\n",
              "      <th>Customer_Gender</th>\n",
              "      <th>Country</th>\n",
              "      <th>State</th>\n",
              "      <th>Product_Category</th>\n",
              "      <th>Sub_Category</th>\n",
              "      <th>Product_Description</th>\n",
              "      <th>Order_Quantity</th>\n",
              "      <th>Unit_Cost</th>\n",
              "      <th>Unit_Price</th>\n",
              "      <th>Profit</th>\n",
              "      <th>Cost</th>\n",
              "      <th>Revenue</th>\n",
              "    </tr>\n",
              "  </thead>\n",
              "  <tbody>\n",
              "    <tr>\n",
              "      <th>0</th>\n",
              "      <td>261695.0</td>\n",
              "      <td>12/1/2021</td>\n",
              "      <td>1.0</td>\n",
              "      <td>December</td>\n",
              "      <td>2021.0</td>\n",
              "      <td>39.0</td>\n",
              "      <td>Adults (35-64)</td>\n",
              "      <td>F</td>\n",
              "      <td>United States</td>\n",
              "      <td>California</td>\n",
              "      <td>Bikes</td>\n",
              "      <td>Mountain Bikes</td>\n",
              "      <td>Mountain-200 Black, 46</td>\n",
              "      <td>4.0</td>\n",
              "      <td>$1,252.00</td>\n",
              "      <td>$2,295.00</td>\n",
              "      <td>$4,172.00</td>\n",
              "      <td>$5,008.00</td>\n",
              "      <td>$9,180.00</td>\n",
              "    </tr>\n",
              "    <tr>\n",
              "      <th>1</th>\n",
              "      <td>261696.0</td>\n",
              "      <td>12/1/2021</td>\n",
              "      <td>1.0</td>\n",
              "      <td>December</td>\n",
              "      <td>2021.0</td>\n",
              "      <td>44.0</td>\n",
              "      <td>Adults (35-64)</td>\n",
              "      <td>M</td>\n",
              "      <td>United Kingdom</td>\n",
              "      <td>England</td>\n",
              "      <td>Bikes</td>\n",
              "      <td>Mountain Bikes</td>\n",
              "      <td>Mountain-200 Silver, 42</td>\n",
              "      <td>1.0</td>\n",
              "      <td>$1,266.00</td>\n",
              "      <td>$2,320.00</td>\n",
              "      <td>$1,054.00</td>\n",
              "      <td>$1,266.00</td>\n",
              "      <td>$2,320.00</td>\n",
              "    </tr>\n",
              "    <tr>\n",
              "      <th>2</th>\n",
              "      <td>261697.0</td>\n",
              "      <td>12/2/2021</td>\n",
              "      <td>2.0</td>\n",
              "      <td>December</td>\n",
              "      <td>2021.0</td>\n",
              "      <td>37.0</td>\n",
              "      <td>Adults (35-64)</td>\n",
              "      <td>M</td>\n",
              "      <td>United States</td>\n",
              "      <td>California</td>\n",
              "      <td>Bikes</td>\n",
              "      <td>Mountain Bikes</td>\n",
              "      <td>Mountain-400-W Silver, 46</td>\n",
              "      <td>2.0</td>\n",
              "      <td>$420.00</td>\n",
              "      <td>$769.00</td>\n",
              "      <td>$698.00</td>\n",
              "      <td>$840.00</td>\n",
              "      <td>$1,538.00</td>\n",
              "    </tr>\n",
              "    <tr>\n",
              "      <th>3</th>\n",
              "      <td>261698.0</td>\n",
              "      <td>12/2/2021</td>\n",
              "      <td>2.0</td>\n",
              "      <td>December</td>\n",
              "      <td>2021.0</td>\n",
              "      <td>31.0</td>\n",
              "      <td>Young Adults (25-34)</td>\n",
              "      <td>F</td>\n",
              "      <td>Australia</td>\n",
              "      <td>New South Wales</td>\n",
              "      <td>Bikes</td>\n",
              "      <td>Mountain Bikes</td>\n",
              "      <td>Mountain-400-W Silver, 42</td>\n",
              "      <td>1.0</td>\n",
              "      <td>$420.00</td>\n",
              "      <td>$769.00</td>\n",
              "      <td>$349.00</td>\n",
              "      <td>$420.00</td>\n",
              "      <td>$769.00</td>\n",
              "    </tr>\n",
              "    <tr>\n",
              "      <th>4</th>\n",
              "      <td>261699.0</td>\n",
              "      <td>12/3/2021</td>\n",
              "      <td>3.0</td>\n",
              "      <td>December</td>\n",
              "      <td>2021.0</td>\n",
              "      <td>37.0</td>\n",
              "      <td>Adults (35-64)</td>\n",
              "      <td>F</td>\n",
              "      <td>United States</td>\n",
              "      <td>California</td>\n",
              "      <td>Bikes</td>\n",
              "      <td>Mountain Bikes</td>\n",
              "      <td>Mountain-200 Black, 46</td>\n",
              "      <td>2.0</td>\n",
              "      <td>$1,252.00</td>\n",
              "      <td>$2,295.00</td>\n",
              "      <td>$2,086.00</td>\n",
              "      <td>$2,504.00</td>\n",
              "      <td>$4,590.00</td>\n",
              "    </tr>\n",
              "    <tr>\n",
              "      <th>5</th>\n",
              "      <td>261700.0</td>\n",
              "      <td>12/3/2021</td>\n",
              "      <td>3.0</td>\n",
              "      <td>December</td>\n",
              "      <td>2021.0</td>\n",
              "      <td>24.0</td>\n",
              "      <td>Youth (&lt;25)</td>\n",
              "      <td>F</td>\n",
              "      <td>United Kingdom</td>\n",
              "      <td>England</td>\n",
              "      <td>Bikes</td>\n",
              "      <td>Mountain Bikes</td>\n",
              "      <td>Mountain-200 Black, 38</td>\n",
              "      <td>1.0</td>\n",
              "      <td>$1,252.00</td>\n",
              "      <td>$2,295.00</td>\n",
              "      <td>$1,043.00</td>\n",
              "      <td>$1,252.00</td>\n",
              "      <td>$2,295.00</td>\n",
              "    </tr>\n",
              "    <tr>\n",
              "      <th>6</th>\n",
              "      <td>261701.0</td>\n",
              "      <td>12/3/2021</td>\n",
              "      <td>3.0</td>\n",
              "      <td>December</td>\n",
              "      <td>2021.0</td>\n",
              "      <td>37.0</td>\n",
              "      <td>Adults (35-64)</td>\n",
              "      <td>M</td>\n",
              "      <td>United States</td>\n",
              "      <td>Washington</td>\n",
              "      <td>Bikes</td>\n",
              "      <td>Mountain Bikes</td>\n",
              "      <td>Mountain-200 Black, 46</td>\n",
              "      <td>1.0</td>\n",
              "      <td>$1,252.00</td>\n",
              "      <td>$2,295.00</td>\n",
              "      <td>$1,043.00</td>\n",
              "      <td>$1,252.00</td>\n",
              "      <td>$2,295.00</td>\n",
              "    </tr>\n",
              "    <tr>\n",
              "      <th>7</th>\n",
              "      <td>261702.0</td>\n",
              "      <td>12/4/2021</td>\n",
              "      <td>4.0</td>\n",
              "      <td>December</td>\n",
              "      <td>2021.0</td>\n",
              "      <td>31.0</td>\n",
              "      <td>Young Adults (25-34)</td>\n",
              "      <td>F</td>\n",
              "      <td>Australia</td>\n",
              "      <td>New South Wales</td>\n",
              "      <td>Bikes</td>\n",
              "      <td>Mountain Bikes</td>\n",
              "      <td>Mountain-400-W Silver, 42</td>\n",
              "      <td>4.0</td>\n",
              "      <td>$420.00</td>\n",
              "      <td>$769.00</td>\n",
              "      <td>$1,396.00</td>\n",
              "      <td>$1,680.00</td>\n",
              "      <td>$3,076.00</td>\n",
              "    </tr>\n",
              "    <tr>\n",
              "      <th>8</th>\n",
              "      <td>261703.0</td>\n",
              "      <td>12/5/2021</td>\n",
              "      <td>5.0</td>\n",
              "      <td>December</td>\n",
              "      <td>2021.0</td>\n",
              "      <td>39.0</td>\n",
              "      <td>Adults (35-64)</td>\n",
              "      <td>F</td>\n",
              "      <td>United States</td>\n",
              "      <td>California</td>\n",
              "      <td>Bikes</td>\n",
              "      <td>Mountain Bikes</td>\n",
              "      <td>Mountain-200 Black, 46</td>\n",
              "      <td>4.0</td>\n",
              "      <td>$1,252.00</td>\n",
              "      <td>$2,295.00</td>\n",
              "      <td>$4,172.00</td>\n",
              "      <td>$5,008.00</td>\n",
              "      <td>$9,180.00</td>\n",
              "    </tr>\n",
              "    <tr>\n",
              "      <th>9</th>\n",
              "      <td>261704.0</td>\n",
              "      <td>12/5/2021</td>\n",
              "      <td>5.0</td>\n",
              "      <td>December</td>\n",
              "      <td>2021.0</td>\n",
              "      <td>42.0</td>\n",
              "      <td>Adults (35-64)</td>\n",
              "      <td>M</td>\n",
              "      <td>Germany</td>\n",
              "      <td>Nordrhein-Westfalen</td>\n",
              "      <td>Bikes</td>\n",
              "      <td>Mountain Bikes</td>\n",
              "      <td>Mountain-200 Black, 38</td>\n",
              "      <td>4.0</td>\n",
              "      <td>$1,252.00</td>\n",
              "      <td>$2,295.00</td>\n",
              "      <td>$4,172.00</td>\n",
              "      <td>$5,008.00</td>\n",
              "      <td>$9,180.00</td>\n",
              "    </tr>\n",
              "  </tbody>\n",
              "</table>\n",
              "</div>"
            ],
            "text/plain": [
              "   Sales_Order #       Date  Day     Month    Year  Customer_Age  \\\n",
              "0       261695.0  12/1/2021  1.0  December  2021.0          39.0   \n",
              "1       261696.0  12/1/2021  1.0  December  2021.0          44.0   \n",
              "2       261697.0  12/2/2021  2.0  December  2021.0          37.0   \n",
              "3       261698.0  12/2/2021  2.0  December  2021.0          31.0   \n",
              "4       261699.0  12/3/2021  3.0  December  2021.0          37.0   \n",
              "5       261700.0  12/3/2021  3.0  December  2021.0          24.0   \n",
              "6       261701.0  12/3/2021  3.0  December  2021.0          37.0   \n",
              "7       261702.0  12/4/2021  4.0  December  2021.0          31.0   \n",
              "8       261703.0  12/5/2021  5.0  December  2021.0          39.0   \n",
              "9       261704.0  12/5/2021  5.0  December  2021.0          42.0   \n",
              "\n",
              "              Age_Group Customer_Gender         Country                State  \\\n",
              "0        Adults (35-64)               F   United States           California   \n",
              "1        Adults (35-64)               M  United Kingdom              England   \n",
              "2        Adults (35-64)               M   United States           California   \n",
              "3  Young Adults (25-34)               F       Australia      New South Wales   \n",
              "4        Adults (35-64)               F   United States           California   \n",
              "5           Youth (<25)               F  United Kingdom              England   \n",
              "6        Adults (35-64)               M   United States           Washington   \n",
              "7  Young Adults (25-34)               F       Australia      New South Wales   \n",
              "8        Adults (35-64)               F   United States           California   \n",
              "9        Adults (35-64)               M         Germany  Nordrhein-Westfalen   \n",
              "\n",
              "  Product_Category    Sub_Category        Product_Description  Order_Quantity  \\\n",
              "0            Bikes  Mountain Bikes     Mountain-200 Black, 46             4.0   \n",
              "1            Bikes  Mountain Bikes    Mountain-200 Silver, 42             1.0   \n",
              "2            Bikes  Mountain Bikes  Mountain-400-W Silver, 46             2.0   \n",
              "3            Bikes  Mountain Bikes  Mountain-400-W Silver, 42             1.0   \n",
              "4            Bikes  Mountain Bikes     Mountain-200 Black, 46             2.0   \n",
              "5            Bikes  Mountain Bikes     Mountain-200 Black, 38             1.0   \n",
              "6            Bikes  Mountain Bikes     Mountain-200 Black, 46             1.0   \n",
              "7            Bikes  Mountain Bikes  Mountain-400-W Silver, 42             4.0   \n",
              "8            Bikes  Mountain Bikes     Mountain-200 Black, 46             4.0   \n",
              "9            Bikes  Mountain Bikes     Mountain-200 Black, 38             4.0   \n",
              "\n",
              "   Unit_Cost   Unit_Price     Profit       Cost     Revenue  \n",
              "0   $1,252.00    $2,295.00  $4,172.00  $5,008.00  $9,180.00  \n",
              "1   $1,266.00    $2,320.00  $1,054.00  $1,266.00  $2,320.00  \n",
              "2     $420.00      $769.00    $698.00    $840.00  $1,538.00  \n",
              "3     $420.00      $769.00    $349.00    $420.00    $769.00  \n",
              "4   $1,252.00    $2,295.00  $2,086.00  $2,504.00  $4,590.00  \n",
              "5   $1,252.00    $2,295.00  $1,043.00  $1,252.00  $2,295.00  \n",
              "6   $1,252.00    $2,295.00  $1,043.00  $1,252.00  $2,295.00  \n",
              "7     $420.00      $769.00  $1,396.00  $1,680.00  $3,076.00  \n",
              "8   $1,252.00    $2,295.00  $4,172.00  $5,008.00  $9,180.00  \n",
              "9   $1,252.00    $2,295.00  $4,172.00  $5,008.00  $9,180.00  "
            ]
          },
          "execution_count": 16,
          "metadata": {},
          "output_type": "execute_result"
        }
      ],
      "source": [
        "# Load the dataset\n",
        "Data = pd.read_csv(\"Bike_Sales.CSV\")\n",
        "\n",
        "# View the first 10 rows of the dataset\n",
        "Data.head(10)"
      ]
    },
    {
      "cell_type": "markdown",
      "metadata": {
        "id": "UxE6SL0n8X6H"
      },
      "source": [
        "\n",
        "##### Steps in Exploratory Data Analysis ####"
      ]
    },
    {
      "cell_type": "code",
      "source": [
        "Data.info()"
      ],
      "metadata": {
        "colab": {
          "base_uri": "https://localhost:8080/"
        },
        "id": "Xn3vpizLBf-2",
        "outputId": "ba8ce518-9cf7-4902-cbf6-33d2ee3a3ff8"
      },
      "execution_count": 10,
      "outputs": [
        {
          "output_type": "stream",
          "name": "stdout",
          "text": [
            "<class 'pandas.core.frame.DataFrame'>\n",
            "RangeIndex: 89 entries, 0 to 88\n",
            "Data columns (total 19 columns):\n",
            " #   Column               Non-Null Count  Dtype  \n",
            "---  ------               --------------  -----  \n",
            " 0   Sales_Order #        88 non-null     float64\n",
            " 1   Date                 88 non-null     object \n",
            " 2   Day                  88 non-null     float64\n",
            " 3   Month                88 non-null     object \n",
            " 4   Year                 88 non-null     float64\n",
            " 5   Customer_Age         88 non-null     float64\n",
            " 6   Age_Group            88 non-null     object \n",
            " 7   Customer_Gender      88 non-null     object \n",
            " 8   Country              88 non-null     object \n",
            " 9   State                88 non-null     object \n",
            " 10  Product_Category     88 non-null     object \n",
            " 11  Sub_Category         88 non-null     object \n",
            " 12  Product_Description  88 non-null     object \n",
            " 13  Order_Quantity       88 non-null     float64\n",
            " 14   Unit_Cost           88 non-null     object \n",
            " 15   Unit_Price          88 non-null     object \n",
            " 16   Profit              88 non-null     object \n",
            " 17   Cost                88 non-null     object \n",
            " 18  Revenue              88 non-null     object \n",
            "dtypes: float64(5), object(14)\n",
            "memory usage: 13.3+ KB\n"
          ]
        }
      ]
    },
    {
      "cell_type": "code",
      "execution_count": null,
      "metadata": {
        "id": "HFXzVTq28X6H",
        "outputId": "d2758334-2c44-4b4b-c5d4-217edd25b1ff"
      },
      "outputs": [
        {
          "name": "stdout",
          "output_type": "stream",
          "text": [
            "<class 'pandas.core.frame.DataFrame'>\n",
            "RangeIndex: 89 entries, 0 to 88\n",
            "Data columns (total 19 columns):\n",
            " #   Column               Non-Null Count  Dtype  \n",
            "---  ------               --------------  -----  \n",
            " 0   Sales_Order #        88 non-null     float64\n",
            " 1   Date                 88 non-null     object \n",
            " 2   Day                  88 non-null     float64\n",
            " 3   Month                88 non-null     object \n",
            " 4   Year                 88 non-null     float64\n",
            " 5   Customer_Age         88 non-null     float64\n",
            " 6   Age_Group            88 non-null     object \n",
            " 7   Customer_Gender      88 non-null     object \n",
            " 8   Country              88 non-null     object \n",
            " 9   State                88 non-null     object \n",
            " 10  Product_Category     88 non-null     object \n",
            " 11  Sub_Category         88 non-null     object \n",
            " 12  Product_Description  88 non-null     object \n",
            " 13  Order_Quantity       88 non-null     float64\n",
            " 14   Unit_Cost           88 non-null     object \n",
            " 15   Unit_Price          88 non-null     object \n",
            " 16   Profit              88 non-null     object \n",
            " 17   Cost                88 non-null     object \n",
            " 18  Revenue              88 non-null     object \n",
            "dtypes: float64(5), object(14)\n",
            "memory usage: 13.3+ KB\n",
            "None\n"
          ]
        }
      ],
      "source": [
        "### A. Explore Data Structure ###\n",
        "# View the columns and rows in the dataset\n",
        "print(Data.info())"
      ]
    },
    {
      "cell_type": "code",
      "execution_count": null,
      "metadata": {
        "id": "OGgLdMnY8X6I",
        "outputId": "fe7344f2-0681-437f-f400-e88ac7ac991d"
      },
      "outputs": [
        {
          "name": "stdout",
          "output_type": "stream",
          "text": [
            "(89, 19)\n"
          ]
        }
      ],
      "source": [
        "# Shows number of rows and columns\n",
        "print(Data.shape)"
      ]
    },
    {
      "cell_type": "code",
      "execution_count": null,
      "metadata": {
        "id": "i4X2Ti0O8X6I",
        "outputId": "ecdf320e-7585-4c66-d256-c5599f777d6c"
      },
      "outputs": [
        {
          "name": "stdout",
          "output_type": "stream",
          "text": [
            "Sales_Order #                 float64\n",
            "Date                   datetime64[ns]\n",
            "Day                           float64\n",
            "Month                        category\n",
            "Year                          float64\n",
            "Customer_Age                  float64\n",
            "Age_Group                    category\n",
            "Customer_Gender              category\n",
            "Country                      category\n",
            "State                        category\n",
            "Product_Category             category\n",
            "Sub_Category                 category\n",
            "Product_Description            object\n",
            "Order_Quantity                float64\n",
            " Unit_Cost                     object\n",
            " Unit_Price                    object\n",
            " Profit                        object\n",
            " Cost                          object\n",
            "Revenue                        object\n",
            "dtype: object\n"
          ]
        }
      ],
      "source": [
        "# To view the data types of each variable/column\n",
        "print(Data.dtypes)"
      ]
    },
    {
      "cell_type": "code",
      "execution_count": 12,
      "metadata": {
        "id": "fA0oS3nv8X6J"
      },
      "outputs": [],
      "source": [
        "# Convert categorical variables to category types (factor equivalent)\n",
        "Data['Month'] = Data['Month'].astype('category')\n",
        "Data['Age_Group'] = Data['Age_Group'].astype('category')\n",
        "Data['Customer_Gender'] = Data['Customer_Gender'].astype('category')\n",
        "Data['Country'] = Data['Country'].astype('category')\n",
        "Data['State'] = Data['State'].astype('category')\n",
        "Data['Product_Category'] = Data['Product_Category'].astype('category')\n",
        "Data['Sub_Category'] = Data['Sub_Category'].astype('category')\n",
        "# Convert Date column to datetime\n",
        "Data['Date'] = pd.to_datetime(Data['Date'])"
      ]
    },
    {
      "cell_type": "code",
      "execution_count": 13,
      "metadata": {
        "colab": {
          "base_uri": "https://localhost:8080/"
        },
        "id": "zxw06z0v8X6K",
        "outputId": "143a367f-b3ee-4d06-f697-912c955b22fc"
      },
      "outputs": [
        {
          "output_type": "stream",
          "name": "stdout",
          "text": [
            "   Revenue  Profit\n",
            "0   9180.0  4172.0\n",
            "1   2320.0  1054.0\n",
            "2   1538.0   698.0\n",
            "3    769.0   349.0\n",
            "4   4590.0  2086.0\n"
          ]
        }
      ],
      "source": [
        "# Trim any whitespace from column names\n",
        "Data.columns = Data.columns.str.strip()\n",
        "\n",
        "# Convert Revenue and Profit to numeric\n",
        "Data[\"Revenue\"] = Data[\"Revenue\"].replace(\"[,$]\", \"\", regex=True).astype(float)\n",
        "Data[\"Profit\"] = Data[\"Profit\"].replace(\"[,$]\", \"\", regex=True).astype(float)\n",
        "\n",
        "# Verify changes\n",
        "print(Data[[\"Revenue\", \"Profit\"]].head())\n"
      ]
    },
    {
      "cell_type": "code",
      "source": [
        "Data.info()"
      ],
      "metadata": {
        "colab": {
          "base_uri": "https://localhost:8080/"
        },
        "id": "7eE9RVFXD6L8",
        "outputId": "65565573-bc20-4aad-bc58-5b885899449d"
      },
      "execution_count": 14,
      "outputs": [
        {
          "output_type": "stream",
          "name": "stdout",
          "text": [
            "<class 'pandas.core.frame.DataFrame'>\n",
            "RangeIndex: 89 entries, 0 to 88\n",
            "Data columns (total 19 columns):\n",
            " #   Column               Non-Null Count  Dtype         \n",
            "---  ------               --------------  -----         \n",
            " 0   Sales_Order #        88 non-null     float64       \n",
            " 1   Date                 88 non-null     datetime64[ns]\n",
            " 2   Day                  88 non-null     float64       \n",
            " 3   Month                88 non-null     category      \n",
            " 4   Year                 88 non-null     float64       \n",
            " 5   Customer_Age         88 non-null     float64       \n",
            " 6   Age_Group            88 non-null     category      \n",
            " 7   Customer_Gender      88 non-null     category      \n",
            " 8   Country              88 non-null     category      \n",
            " 9   State                88 non-null     category      \n",
            " 10  Product_Category     88 non-null     category      \n",
            " 11  Sub_Category         88 non-null     category      \n",
            " 12  Product_Description  88 non-null     object        \n",
            " 13  Order_Quantity       88 non-null     float64       \n",
            " 14  Unit_Cost            88 non-null     object        \n",
            " 15  Unit_Price           88 non-null     object        \n",
            " 16  Profit               88 non-null     float64       \n",
            " 17  Cost                 88 non-null     object        \n",
            " 18  Revenue              88 non-null     float64       \n",
            "dtypes: category(7), datetime64[ns](1), float64(7), object(4)\n",
            "memory usage: 10.6+ KB\n"
          ]
        }
      ]
    },
    {
      "cell_type": "markdown",
      "metadata": {
        "id": "Nh4AIEgz8X6L"
      },
      "source": [
        "##### Sales Trends Over Time (Revenue & Profit)"
      ]
    },
    {
      "cell_type": "code",
      "execution_count": 15,
      "metadata": {
        "colab": {
          "base_uri": "https://localhost:8080/",
          "height": 540
        },
        "id": "4v48gM9w8X6L",
        "outputId": "a9ab2e02-e2e4-47b7-c32a-88f84c166300"
      },
      "outputs": [
        {
          "output_type": "display_data",
          "data": {
            "text/plain": [
              "<Figure size 1200x500 with 1 Axes>"
            ],
            "image/png": "[encoded data removed]"
          },
          "metadata": {}
        }
      ],
      "source": [
        "import matplotlib.pyplot as plt\n",
        "import seaborn as sns\n",
        "\n",
        "# Group by Date\n",
        "sales_trend = Data.groupby('Date')[['Revenue', 'Profit']].sum()\n",
        "\n",
        "# Plot\n",
        "plt.figure(figsize=(12, 5))\n",
        "sns.lineplot(x=sales_trend.index, y=sales_trend[\"Revenue\"], label=\"Revenue\", color=\"blue\", marker=\"o\")\n",
        "sns.lineplot(x=sales_trend.index, y=sales_trend[\"Profit\"], label=\"Profit\", color=\"green\", marker=\"s\")\n",
        "\n",
        "# Formatting\n",
        "plt.title(\"Sales Trend Over Time (Revenue & Profit)\")\n",
        "plt.xlabel(\"Date\")\n",
        "plt.ylabel(\"Amount ($)\")\n",
        "plt.xticks(rotation=45)\n",
        "plt.legend()\n",
        "plt.grid(True)\n",
        "\n",
        "# Show the plot\n",
        "plt.show()"
      ]
    },
    {
      "cell_type": "markdown",
      "metadata": {
        "id": "1GfDGtQ38X6P"
      },
      "source": [
        "##### Customer Demographics (Age Group & Gender)"
      ]
    },
    {
      "cell_type": "code",
      "execution_count": null,
      "metadata": {
        "id": "GO5DdOej8X6R",
        "outputId": "ed3bb93e-cea8-4c42-a8ea-5f1fd8dbe8be"
      },
      "outputs": [
        {
          "data": {
            "image/png": "[encoded data removed]",
            "text/plain": [
              "<Figure size 640x480 with 1 Axes>"
            ]
          },
          "metadata": {},
          "output_type": "display_data"
        }
      ],
      "source": [
        "# Barplot for categorical variables like 'Age_Group'\n",
        "sns.countplot(x='Age_Group', data=Data)\n",
        "plt.title(\"Distribution of Customer Age Groups\")\n",
        "plt.show()"
      ]
    },
    {
      "cell_type": "code",
      "execution_count": null,
      "metadata": {
        "id": "Wy9qKXPj8X6T",
        "outputId": "08d52291-95e3-4b38-bbac-cf109ede9bc5"
      },
      "outputs": [
        {
          "data": {
            "image/png": "[encoded data removed]",
            "text/plain": [
              "<Figure size 800x500 with 1 Axes>"
            ]
          },
          "metadata": {},
          "output_type": "display_data"
        }
      ],
      "source": [
        "# Count sales per age group\n",
        "plt.figure(figsize=(8, 5))\n",
        "sns.countplot(data=Data, x=\"Age_Group\", hue=\"Customer_Gender\", palette=\"Set2\")\n",
        "plt.title(\"Sales Distribution by Age Group & Gender\")\n",
        "plt.xlabel(\"Age Group\")\n",
        "plt.ylabel(\"Number of Sales\")\n",
        "plt.xticks(rotation=45)\n",
        "plt.legend(title=\"Gender\")\n",
        "plt.grid(axis='y')\n",
        "plt.show()\n"
      ]
    },
    {
      "cell_type": "code",
      "execution_count": null,
      "metadata": {
        "id": "SYjcx0ua8X6V",
        "outputId": "f2c55c89-68aa-425b-a615-e6cbebcfbc4b"
      },
      "outputs": [
        {
          "data": {
            "image/png": "[encoded data removed]",
            "text/plain": [
              "<Figure size 640x480 with 1 Axes>"
            ]
          },
          "metadata": {},
          "output_type": "display_data"
        }
      ],
      "source": [
        "## 3. Relationships between categorical variables (Count graph)\n",
        "sns.countplot(Data, x='Age_Group', hue='Country')\n",
        "plt.title(\"Age Groups Purchasing Bikes across Countries\")\n",
        "plt.show()"
      ]
    },
    {
      "cell_type": "markdown",
      "metadata": {
        "id": "rEi0H0yI8X6W"
      },
      "source": [
        "##### Geographical Sales Analysis (Sales per Country)"
      ]
    },
    {
      "cell_type": "code",
      "execution_count": null,
      "metadata": {
        "id": "BMqwG-Ek8X6X"
      },
      "outputs": [],
      "source": [
        "#pip install plotly"
      ]
    },
    {
      "cell_type": "code",
      "execution_count": null,
      "metadata": {
        "id": "EcnoN02E8X6X"
      },
      "outputs": [],
      "source": [
        "import plotly.express as px"
      ]
    },
    {
      "cell_type": "code",
      "execution_count": null,
      "metadata": {
        "id": "tgF5AT548X6Y",
        "outputId": "bf1468ec-09fb-4b3c-e646-adacc993c9d1"
      },
      "outputs": [
        {
          "name": "stderr",
          "output_type": "stream",
          "text": [
            "C:\\Users\\EMMACULATE\\AppData\\Local\\Temp\\ipykernel_15108\\2772604336.py:4: FutureWarning:\n",
            "\n",
            "The default of observed=False is deprecated and will be changed to True in a future version of pandas. Pass observed=False to retain current behavior or observed=True to adopt the future default and silence this warning.\n",
            "\n"
          ]
        },
        {
          "data": {
            "application/vnd.plotly.v1+json": {
              "config": {
                "plotlyServerURL": "https://plot.ly"
              },
              "data": [
                {
                  "alignmentgroup": "True",
                  "hovertemplate": "Country=%{x}<br>Total Sales (USD)=%{marker.color}<extra></extra>",
                  "legendgroup": "",
                  "marker": {
                    "color": [
                      111506,
                      20080,
                      46175,
                      30010,
                      19972,
                      133489
                    ],
                    "coloraxis": "coloraxis",
                    "pattern": {
                      "shape": ""
                    }
                  },
                  "name": "",
                  "offsetgroup": "",
                  "orientation": "v",
                  "showlegend": false,
                  "textposition": "auto",
                  "type": "bar",
                  "x": [
                    "Australia",
                    "Canada",
                    "France",
                    "Germany",
                    "United Kingdom",
                    "United States"
                  ],
                  "xaxis": "x",
                  "y": [
                    111506,
                    20080,
                    46175,
                    30010,
                    19972,
                    133489
                  ],
                  "yaxis": "y"
                }
              ],
              "layout": {
                "barmode": "relative",
                "coloraxis": {
                  "colorbar": {
                    "title": {
                      "text": "Total Sales (USD)"
                    }
                  },
                  "colorscale": [
                    [
                      0,
                      "#440154"
                    ],
                    [
                      0.1111111111111111,
                      "#482878"
                    ],
                    [
                      0.2222222222222222,
                      "#3e4989"
                    ],
                    [
                      0.3333333333333333,
                      "#31688e"
                    ],
                    [
                      0.4444444444444444,
                      "#26828e"
                    ],
                    [
                      0.5555555555555556,
                      "#1f9e89"
                    ],
                    [
                      0.6666666666666666,
                      "#35b779"
                    ],
                    [
                      0.7777777777777778,
                      "#6ece58"
                    ],
                    [
                      0.8888888888888888,
                      "#b5de2b"
                    ],
                    [
                      1,
                      "#fde725"
                    ]
                  ]
                },
                "legend": {
                  "tracegroupgap": 0
                },
                "template": {
                  "data": {
                    "bar": [
                      {
                        "error_x": {
                          "color": "#2a3f5f"
                        },
                        "error_y": {
                          "color": "#2a3f5f"
                        },
                        "marker": {
                          "line": {
                            "color": "#E5ECF6",
                            "width": 0.5
                          },
                          "pattern": {
                            "fillmode": "overlay",
                            "size": 10,
                            "solidity": 0.2
                          }
                        },
                        "type": "bar"
                      }
                    ],
                    "barpolar": [
                      {
                        "marker": {
                          "line": {
                            "color": "#E5ECF6",
                            "width": 0.5
                          },
                          "pattern": {
                            "fillmode": "overlay",
                            "size": 10,
                            "solidity": 0.2
                          }
                        },
                        "type": "barpolar"
                      }
                    ],
                    "carpet": [
                      {
                        "aaxis": {
                          "endlinecolor": "#2a3f5f",
                          "gridcolor": "white",
                          "linecolor": "white",
                          "minorgridcolor": "white",
                          "startlinecolor": "#2a3f5f"
                        },
                        "baxis": {
                          "endlinecolor": "#2a3f5f",
                          "gridcolor": "white",
                          "linecolor": "white",
                          "minorgridcolor": "white",
                          "startlinecolor": "#2a3f5f"
                        },
                        "type": "carpet"
                      }
                    ],
                    "choropleth": [
                      {
                        "colorbar": {
                          "outlinewidth": 0,
                          "ticks": ""
                        },
                        "type": "choropleth"
                      }
                    ],
                    "contour": [
                      {
                        "colorbar": {
                          "outlinewidth": 0,
                          "ticks": ""
                        },
                        "colorscale": [
                          [
                            0,
                            "#0d0887"
                          ],
                          [
                            0.1111111111111111,
                            "#46039f"
                          ],
                          [
                            0.2222222222222222,
                            "#7201a8"
                          ],
                          [
                            0.3333333333333333,
                            "#9c179e"
                          ],
                          [
                            0.4444444444444444,
                            "#bd3786"
                          ],
                          [
                            0.5555555555555556,
                            "#d8576b"
                          ],
                          [
                            0.6666666666666666,
                            "#ed7953"
                          ],
                          [
                            0.7777777777777778,
                            "#fb9f3a"
                          ],
                          [
                            0.8888888888888888,
                            "#fdca26"
                          ],
                          [
                            1,
                            "#f0f921"
                          ]
                        ],
                        "type": "contour"
                      }
                    ],
                    "contourcarpet": [
                      {
                        "colorbar": {
                          "outlinewidth": 0,
                          "ticks": ""
                        },
                        "type": "contourcarpet"
                      }
                    ],
                    "heatmap": [
                      {
                        "colorbar": {
                          "outlinewidth": 0,
                          "ticks": ""
                        },
                        "colorscale": [
                          [
                            0,
                            "#0d0887"
                          ],
                          [
                            0.1111111111111111,
                            "#46039f"
                          ],
                          [
                            0.2222222222222222,
                            "#7201a8"
                          ],
                          [
                            0.3333333333333333,
                            "#9c179e"
                          ],
                          [
                            0.4444444444444444,
                            "#bd3786"
                          ],
                          [
                            0.5555555555555556,
                            "#d8576b"
                          ],
                          [
                            0.6666666666666666,
                            "#ed7953"
                          ],
                          [
                            0.7777777777777778,
                            "#fb9f3a"
                          ],
                          [
                            0.8888888888888888,
                            "#fdca26"
                          ],
                          [
                            1,
                            "#f0f921"
                          ]
                        ],
                        "type": "heatmap"
                      }
                    ],
                    "heatmapgl": [
                      {
                        "colorbar": {
                          "outlinewidth": 0,
                          "ticks": ""
                        },
                        "colorscale": [
                          [
                            0,
                            "#0d0887"
                          ],
                          [
                            0.1111111111111111,
                            "#46039f"
                          ],
                          [
                            0.2222222222222222,
                            "#7201a8"
                          ],
                          [
                            0.3333333333333333,
                            "#9c179e"
                          ],
                          [
                            0.4444444444444444,
                            "#bd3786"
                          ],
                          [
                            0.5555555555555556,
                            "#d8576b"
                          ],
                          [
                            0.6666666666666666,
                            "#ed7953"
                          ],
                          [
                            0.7777777777777778,
                            "#fb9f3a"
                          ],
                          [
                            0.8888888888888888,
                            "#fdca26"
                          ],
                          [
                            1,
                            "#f0f921"
                          ]
                        ],
                        "type": "heatmapgl"
                      }
                    ],
                    "histogram": [
                      {
                        "marker": {
                          "pattern": {
                            "fillmode": "overlay",
                            "size": 10,
                            "solidity": 0.2
                          }
                        },
                        "type": "histogram"
                      }
                    ],
                    "histogram2d": [
                      {
                        "colorbar": {
                          "outlinewidth": 0,
                          "ticks": ""
                        },
                        "colorscale": [
                          [
                            0,
                            "#0d0887"
                          ],
                          [
                            0.1111111111111111,
                            "#46039f"
                          ],
                          [
                            0.2222222222222222,
                            "#7201a8"
                          ],
                          [
                            0.3333333333333333,
                            "#9c179e"
                          ],
                          [
                            0.4444444444444444,
                            "#bd3786"
                          ],
                          [
                            0.5555555555555556,
                            "#d8576b"
                          ],
                          [
                            0.6666666666666666,
                            "#ed7953"
                          ],
                          [
                            0.7777777777777778,
                            "#fb9f3a"
                          ],
                          [
                            0.8888888888888888,
                            "#fdca26"
                          ],
                          [
                            1,
                            "#f0f921"
                          ]
                        ],
                        "type": "histogram2d"
                      }
                    ],
                    "histogram2dcontour": [
                      {
                        "colorbar": {
                          "outlinewidth": 0,
                          "ticks": ""
                        },
                        "colorscale": [
                          [
                            0,
                            "#0d0887"
                          ],
                          [
                            0.1111111111111111,
                            "#46039f"
                          ],
                          [
                            0.2222222222222222,
                            "#7201a8"
                          ],
                          [
                            0.3333333333333333,
                            "#9c179e"
                          ],
                          [
                            0.4444444444444444,
                            "#bd3786"
                          ],
                          [
                            0.5555555555555556,
                            "#d8576b"
                          ],
                          [
                            0.6666666666666666,
                            "#ed7953"
                          ],
                          [
                            0.7777777777777778,
                            "#fb9f3a"
                          ],
                          [
                            0.8888888888888888,
                            "#fdca26"
                          ],
                          [
                            1,
                            "#f0f921"
                          ]
                        ],
                        "type": "histogram2dcontour"
                      }
                    ],
                    "mesh3d": [
                      {
                        "colorbar": {
                          "outlinewidth": 0,
                          "ticks": ""
                        },
                        "type": "mesh3d"
                      }
                    ],
                    "parcoords": [
                      {
                        "line": {
                          "colorbar": {
                            "outlinewidth": 0,
                            "ticks": ""
                          }
                        },
                        "type": "parcoords"
                      }
                    ],
                    "pie": [
                      {
                        "automargin": true,
                        "type": "pie"
                      }
                    ],
                    "scatter": [
                      {
                        "fillpattern": {
                          "fillmode": "overlay",
                          "size": 10,
                          "solidity": 0.2
                        },
                        "type": "scatter"
                      }
                    ],
                    "scatter3d": [
                      {
                        "line": {
                          "colorbar": {
                            "outlinewidth": 0,
                            "ticks": ""
                          }
                        },
                        "marker": {
                          "colorbar": {
                            "outlinewidth": 0,
                            "ticks": ""
                          }
                        },
                        "type": "scatter3d"
                      }
                    ],
                    "scattercarpet": [
                      {
                        "marker": {
                          "colorbar": {
                            "outlinewidth": 0,
                            "ticks": ""
                          }
                        },
                        "type": "scattercarpet"
                      }
                    ],
                    "scattergeo": [
                      {
                        "marker": {
                          "colorbar": {
                            "outlinewidth": 0,
                            "ticks": ""
                          }
                        },
                        "type": "scattergeo"
                      }
                    ],
                    "scattergl": [
                      {
                        "marker": {
                          "colorbar": {
                            "outlinewidth": 0,
                            "ticks": ""
                          }
                        },
                        "type": "scattergl"
                      }
                    ],
                    "scattermapbox": [
                      {
                        "marker": {
                          "colorbar": {
                            "outlinewidth": 0,
                            "ticks": ""
                          }
                        },
                        "type": "scattermapbox"
                      }
                    ],
                    "scatterpolar": [
                      {
                        "marker": {
                          "colorbar": {
                            "outlinewidth": 0,
                            "ticks": ""
                          }
                        },
                        "type": "scatterpolar"
                      }
                    ],
                    "scatterpolargl": [
                      {
                        "marker": {
                          "colorbar": {
                            "outlinewidth": 0,
                            "ticks": ""
                          }
                        },
                        "type": "scatterpolargl"
                      }
                    ],
                    "scatterternary": [
                      {
                        "marker": {
                          "colorbar": {
                            "outlinewidth": 0,
                            "ticks": ""
                          }
                        },
                        "type": "scatterternary"
                      }
                    ],
                    "surface": [
                      {
                        "colorbar": {
                          "outlinewidth": 0,
                          "ticks": ""
                        },
                        "colorscale": [
                          [
                            0,
                            "#0d0887"
                          ],
                          [
                            0.1111111111111111,
                            "#46039f"
                          ],
                          [
                            0.2222222222222222,
                            "#7201a8"
                          ],
                          [
                            0.3333333333333333,
                            "#9c179e"
                          ],
                          [
                            0.4444444444444444,
                            "#bd3786"
                          ],
                          [
                            0.5555555555555556,
                            "#d8576b"
                          ],
                          [
                            0.6666666666666666,
                            "#ed7953"
                          ],
                          [
                            0.7777777777777778,
                            "#fb9f3a"
                          ],
                          [
                            0.8888888888888888,
                            "#fdca26"
                          ],
                          [
                            1,
                            "#f0f921"
                          ]
                        ],
                        "type": "surface"
                      }
                    ],
                    "table": [
                      {
                        "cells": {
                          "fill": {
                            "color": "#EBF0F8"
                          },
                          "line": {
                            "color": "white"
                          }
                        },
                        "header": {
                          "fill": {
                            "color": "#C8D4E3"
                          },
                          "line": {
                            "color": "white"
                          }
                        },
                        "type": "table"
                      }
                    ]
                  },
                  "layout": {
                    "annotationdefaults": {
                      "arrowcolor": "#2a3f5f",
                      "arrowhead": 0,
                      "arrowwidth": 1
                    },
                    "autotypenumbers": "strict",
                    "coloraxis": {
                      "colorbar": {
                        "outlinewidth": 0,
                        "ticks": ""
                      }
                    },
                    "colorscale": {
                      "diverging": [
                        [
                          0,
                          "#8e0152"
                        ],
                        [
                          0.1,
                          "#c51b7d"
                        ],
                        [
                          0.2,
                          "#de77ae"
                        ],
                        [
                          0.3,
                          "#f1b6da"
                        ],
                        [
                          0.4,
                          "#fde0ef"
                        ],
                        [
                          0.5,
                          "#f7f7f7"
                        ],
                        [
                          0.6,
                          "#e6f5d0"
                        ],
                        [
                          0.7,
                          "#b8e186"
                        ],
                        [
                          0.8,
                          "#7fbc41"
                        ],
                        [
                          0.9,
                          "#4d9221"
                        ],
                        [
                          1,
                          "#276419"
                        ]
                      ],
                      "sequential": [
                        [
                          0,
                          "#0d0887"
                        ],
                        [
                          0.1111111111111111,
                          "#46039f"
                        ],
                        [
                          0.2222222222222222,
                          "#7201a8"
                        ],
                        [
                          0.3333333333333333,
                          "#9c179e"
                        ],
                        [
                          0.4444444444444444,
                          "#bd3786"
                        ],
                        [
                          0.5555555555555556,
                          "#d8576b"
                        ],
                        [
                          0.6666666666666666,
                          "#ed7953"
                        ],
                        [
                          0.7777777777777778,
                          "#fb9f3a"
                        ],
                        [
                          0.8888888888888888,
                          "#fdca26"
                        ],
                        [
                          1,
                          "#f0f921"
                        ]
                      ],
                      "sequentialminus": [
                        [
                          0,
                          "#0d0887"
                        ],
                        [
                          0.1111111111111111,
                          "#46039f"
                        ],
                        [
                          0.2222222222222222,
                          "#7201a8"
                        ],
                        [
                          0.3333333333333333,
                          "#9c179e"
                        ],
                        [
                          0.4444444444444444,
                          "#bd3786"
                        ],
                        [
                          0.5555555555555556,
                          "#d8576b"
                        ],
                        [
                          0.6666666666666666,
                          "#ed7953"
                        ],
                        [
                          0.7777777777777778,
                          "#fb9f3a"
                        ],
                        [
                          0.8888888888888888,
                          "#fdca26"
                        ],
                        [
                          1,
                          "#f0f921"
                        ]
                      ]
                    },
                    "colorway": [
                      "#636efa",
                      "#EF553B",
                      "#00cc96",
                      "#ab63fa",
                      "#FFA15A",
                      "#19d3f3",
                      "#FF6692",
                      "#B6E880",
                      "#FF97FF",
                      "#FECB52"
                    ],
                    "font": {
                      "color": "#2a3f5f"
                    },
                    "geo": {
                      "bgcolor": "white",
                      "lakecolor": "white",
                      "landcolor": "#E5ECF6",
                      "showlakes": true,
                      "showland": true,
                      "subunitcolor": "white"
                    },
                    "hoverlabel": {
                      "align": "left"
                    },
                    "hovermode": "closest",
                    "mapbox": {
                      "style": "light"
                    },
                    "paper_bgcolor": "white",
                    "plot_bgcolor": "#E5ECF6",
                    "polar": {
                      "angularaxis": {
                        "gridcolor": "white",
                        "linecolor": "white",
                        "ticks": ""
                      },
                      "bgcolor": "#E5ECF6",
                      "radialaxis": {
                        "gridcolor": "white",
                        "linecolor": "white",
                        "ticks": ""
                      }
                    },
                    "scene": {
                      "xaxis": {
                        "backgroundcolor": "#E5ECF6",
                        "gridcolor": "white",
                        "gridwidth": 2,
                        "linecolor": "white",
                        "showbackground": true,
                        "ticks": "",
                        "zerolinecolor": "white"
                      },
                      "yaxis": {
                        "backgroundcolor": "#E5ECF6",
                        "gridcolor": "white",
                        "gridwidth": 2,
                        "linecolor": "white",
                        "showbackground": true,
                        "ticks": "",
                        "zerolinecolor": "white"
                      },
                      "zaxis": {
                        "backgroundcolor": "#E5ECF6",
                        "gridcolor": "white",
                        "gridwidth": 2,
                        "linecolor": "white",
                        "showbackground": true,
                        "ticks": "",
                        "zerolinecolor": "white"
                      }
                    },
                    "shapedefaults": {
                      "line": {
                        "color": "#2a3f5f"
                      }
                    },
                    "ternary": {
                      "aaxis": {
                        "gridcolor": "white",
                        "linecolor": "white",
                        "ticks": ""
                      },
                      "baxis": {
                        "gridcolor": "white",
                        "linecolor": "white",
                        "ticks": ""
                      },
                      "bgcolor": "#E5ECF6",
                      "caxis": {
                        "gridcolor": "white",
                        "linecolor": "white",
                        "ticks": ""
                      }
                    },
                    "title": {
                      "x": 0.05
                    },
                    "xaxis": {
                      "automargin": true,
                      "gridcolor": "white",
                      "linecolor": "white",
                      "ticks": "",
                      "title": {
                        "standoff": 15
                      },
                      "zerolinecolor": "white",
                      "zerolinewidth": 2
                    },
                    "yaxis": {
                      "automargin": true,
                      "gridcolor": "white",
                      "linecolor": "white",
                      "ticks": "",
                      "title": {
                        "standoff": 15
                      },
                      "zerolinecolor": "white",
                      "zerolinewidth": 2
                    }
                  }
                },
                "title": {
                  "text": "Revenue per Country"
                },
                "xaxis": {
                  "anchor": "y",
                  "domain": [
                    0,
                    1
                  ],
                  "title": {
                    "text": "Country"
                  }
                },
                "yaxis": {
                  "anchor": "x",
                  "domain": [
                    0,
                    1
                  ],
                  "title": {
                    "text": "Total Sales (USD)"
                  }
                }
              }
            }
          },
          "metadata": {},
          "output_type": "display_data"
        }
      ],
      "source": [
        "Data['Revenue'] = pd.to_numeric(Data['Revenue'], errors='coerce')\n",
        "\n",
        "# Group by 'Country' and sum the revenue\n",
        "country_sales = Data.groupby('Country')['Revenue'].sum().reset_index()\n",
        "\n",
        "# Create a bar plot for Revenue per country\n",
        "fig = px.bar(country_sales, x='Country', y='Revenue',\n",
        "             title='Revenue per Country',\n",
        "             labels={'Revenue': 'Total Sales (USD)', 'Country': 'Country'},\n",
        "             color='Revenue', color_continuous_scale='Viridis')\n",
        "\n",
        "# Show the plot\n",
        "fig.show()"
      ]
    },
    {
      "cell_type": "markdown",
      "metadata": {
        "id": "Qu9CY3qL8X6a"
      },
      "source": [
        "##### Exercise\n",
        "\n",
        "Analyse the following using visuals\n",
        "\n",
        "1. Top-Selling Categories\n",
        "2. Profitability Analysis (Profit vs Order Quantity)"
      ]
    },
    {
      "cell_type": "markdown",
      "metadata": {
        "id": "O6RkT3o_8X6b"
      },
      "source": [
        "##### Thank you for listening"
      ]
    }
  ],
  "metadata": {
    "kernelspec": {
      "display_name": "base",
      "language": "python",
      "name": "python3"
    },
    "language_info": {
      "codemirror_mode": {
        "name": "ipython",
        "version": 3
      },
      "file_extension": ".py",
      "mimetype": "text/x-python",
      "name": "python",
      "nbconvert_exporter": "python",
      "pygments_lexer": "ipython3",
      "version": "3.12.7"
    },
    "orig_nbformat": 4,
    "colab": {
      "provenance": []
    }
  },
  "nbformat": 4,
  "nbformat_minor": 0
}